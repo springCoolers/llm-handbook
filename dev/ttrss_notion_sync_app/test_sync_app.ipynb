{
 "cells": [
  {
   "cell_type": "markdown",
   "metadata": {},
   "source": [
    "# TTRSS-Notion 동기화 애플리케이션 테스트\n",
    "\n",
    "이 노트북은 TTRSS와 Notion 데이터베이스 간 동기화 기능을 테스트합니다. 모듈별로 주요 기능을 테스트하고 결과를 확인합니다."
   ]
  },
  {
   "cell_type": "markdown",
   "metadata": {},
   "source": [
    "## 1. 환경 설정 및 임포트"
   ]
  },
  {
   "cell_type": "code",
   "execution_count": 1,
   "metadata": {},
   "outputs": [
    {
     "name": "stdout",
     "output_type": "stream",
     "text": [
      "Current working directory: /Users/oldman/Library/CloudStorage/OneDrive-개인/001_Documents/001_TelePIX/000_workspace/ttrss_notion_sync_app\n"
     ]
    }
   ],
   "source": [
    "import sys\n",
    "import os\n",
    "from datetime import datetime\n",
    "import json\n",
    "\n",
    "# 현재 경로를 확인합니다\n",
    "print(f\"Current working directory: {os.getcwd()}\")\n",
    "\n",
    "# 모듈 임포트를 위해 필요한 경우 경로를 추가합니다\n",
    "if not os.getcwd().endswith('ttrss_notion_sync_app'):\n",
    "    os.chdir('ttrss_notion_sync_app')\n",
    "    print(f\"Changed directory to: {os.getcwd()}\")"
   ]
  },
  {
   "cell_type": "code",
   "execution_count": 2,
   "metadata": {},
   "outputs": [
    {
     "name": "stdout",
     "output_type": "stream",
     "text": [
      "Database Config: 222.110.59.179:5432 - DB: ttrss\n",
      "Notion Database ID: 1acf199edf7c8061a721d4b4d2dc3cb4\n",
      "Notion API Key: ntn_6...rVaAa\n"
     ]
    }
   ],
   "source": [
    "# 필요한 모듈을 임포트합니다\n",
    "from dotenv import load_dotenv\n",
    "load_dotenv()  # .env 파일에서 환경 변수를 로드합니다\n",
    "\n",
    "# 설정 가져오기\n",
    "from config import DB_CONFIG, NOTION_DATABASE_ID, NOTION_API_KEY, logger\n",
    "\n",
    "# 설정 정보 확인 (API 키 일부만 표시)\n",
    "print(f\"Database Config: {DB_CONFIG['host']}:{DB_CONFIG['port']} - DB: {DB_CONFIG['dbname']}\")\n",
    "print(f\"Notion Database ID: {NOTION_DATABASE_ID}\")\n",
    "print(f\"Notion API Key: {NOTION_API_KEY[:5]}...{NOTION_API_KEY[-5:]}\")"
   ]
  },
  {
   "cell_type": "markdown",
   "metadata": {},
   "source": [
    "## 2. 데이터베이스 관리자 테스트\n",
    "\n",
    "데이터베이스 연결 및 기본 함수들을 테스트합니다."
   ]
  },
  {
   "cell_type": "code",
   "execution_count": 3,
   "metadata": {},
   "outputs": [
    {
     "name": "stderr",
     "output_type": "stream",
     "text": [
      "2025-03-23 18:40:30,163 - INFO - Connected to TTRSS database successfully\n"
     ]
    },
    {
     "name": "stdout",
     "output_type": "stream",
     "text": [
      "✅ 데이터베이스 연결 성공\n"
     ]
    }
   ],
   "source": [
    "from db_manager import DatabaseManager\n",
    "\n",
    "# 데이터베이스 관리자 객체 생성\n",
    "db_manager = DatabaseManager()\n",
    "\n",
    "# 데이터베이스 연결\n",
    "try:\n",
    "    conn = db_manager.connect()\n",
    "    print(\"✅ 데이터베이스 연결 성공\")\n",
    "except Exception as e:\n",
    "    print(f\"❌ 데이터베이스 연결 실패: {e}\")"
   ]
  },
  {
   "cell_type": "code",
   "execution_count": 4,
   "metadata": {},
   "outputs": [
    {
     "name": "stderr",
     "output_type": "stream",
     "text": [
      "2025-03-23 18:40:30,966 - INFO - Retrieved ttrss_entries schema\n"
     ]
    },
    {
     "name": "stdout",
     "output_type": "stream",
     "text": [
      "✅ TTRSS 항목 테이블 스키마 조회 성공\n",
      "스키마 컬럼 수: 17\n",
      "  - id: integer\n",
      "  - title: text\n",
      "  - guid: text\n",
      "  - link: text\n",
      "  - updated: timestamp without time zone\n",
      "  - content: text\n",
      "  - content_hash: character varying\n",
      "  - cached_content: text\n",
      "  - no_orig_date: boolean\n",
      "  - date_entered: timestamp without time zone\n"
     ]
    }
   ],
   "source": [
    "# TTRSS 항목 테이블 스키마 조회\n",
    "try:\n",
    "    schema = db_manager.get_ttrss_entries_schema()\n",
    "    print(\"✅ TTRSS 항목 테이블 스키마 조회 성공\")\n",
    "    print(f\"스키마 컬럼 수: {len(schema)}\")\n",
    "    for column, data_type in schema[:10]:  # 처음 10개 컬럼만 출력\n",
    "        print(f\"  - {column}: {data_type}\")\n",
    "except Exception as e:\n",
    "    print(f\"❌ TTRSS 항목 테이블 스키마 조회 실패: {e}\")"
   ]
  },
  {
   "cell_type": "code",
   "execution_count": 5,
   "metadata": {},
   "outputs": [
    {
     "name": "stderr",
     "output_type": "stream",
     "text": [
      "2025-03-23 18:40:31,742 - INFO - Retrieved 38 entries from ttrss_entries\n"
     ]
    },
    {
     "name": "stdout",
     "output_type": "stream",
     "text": [
      "✅ TTRSS 항목 조회 성공: 38개 항목 조회됨\n",
      "\n",
      "처음 5개 항목:\n",
      "  - ID: 37, 제목: 👏👏 Here are our 9 confirmed speakers for our miniC...\n",
      "  - ID: 30, 제목: Code Implementation of a Rapid Disaster Assessment...\n",
      "  - ID: 4, 제목: Microsoft AI Introduces Claimify: A Novel LLM-base...\n",
      "  - ID: 12, 제목: Groundlight Research Team Released an Open-Source ...\n",
      "  - ID: 13, 제목: Cohere Released Command A: A 111B Parameter AI Mod...\n"
     ]
    }
   ],
   "source": [
    "# TTRSS 항목 조회\n",
    "try:\n",
    "    entries = db_manager.get_ttrss_entries()\n",
    "    print(f\"✅ TTRSS 항목 조회 성공: {len(entries)}개 항목 조회됨\")\n",
    "    \n",
    "    # 첫 5개 항목 미리보기\n",
    "    if entries:\n",
    "        print(\"\\n처음 5개 항목:\")\n",
    "        for entry in entries[:5]:\n",
    "            print(f\"  - ID: {entry['id']}, 제목: {entry['title'][:50]}...\")\n",
    "    else:\n",
    "        print(\"TTRSS 항목이 없습니다. 피드를 구독하고 업데이트해야 할 수 있습니다.\")\n",
    "except Exception as e:\n",
    "    print(f\"❌ TTRSS 항목 조회 실패: {e}\")"
   ]
  },
  {
   "cell_type": "code",
   "execution_count": 6,
   "metadata": {},
   "outputs": [
    {
     "name": "stderr",
     "output_type": "stream",
     "text": [
      "2025-03-23 18:40:32,028 - INFO - Table ttrss_notion_sync already exists, skipping creation\n"
     ]
    },
    {
     "name": "stdout",
     "output_type": "stream",
     "text": [
      "ℹ️ 동기화 테이블이 이미 존재합니다. 테이블을 유지합니다.\n"
     ]
    }
   ],
   "source": [
    "# 동기화 테이블 생성 테스트\n",
    "try:\n",
    "    was_created = db_manager.create_sync_table()\n",
    "    if was_created:\n",
    "        print(\"✅ 동기화 테이블이 생성되었습니다.\")\n",
    "    else:\n",
    "        print(\"ℹ️ 동기화 테이블이 이미 존재합니다. 테이블을 유지합니다.\")\n",
    "except Exception as e:\n",
    "    print(f\"❌ 동기화 테이블 작업 실패: {e}\")"
   ]
  },
  {
   "cell_type": "code",
   "execution_count": 7,
   "metadata": {},
   "outputs": [
    {
     "name": "stderr",
     "output_type": "stream",
     "text": [
      "2025-03-23 18:40:32,510 - INFO - Retrieved 38 entries from ttrss_notion_sync\n"
     ]
    },
    {
     "name": "stdout",
     "output_type": "stream",
     "text": [
      "✅ 동기화 테이블 항목 조회 성공: 38개 항목 조회됨\n",
      "\n",
      "처음 5개 항목:\n",
      "  - ID: 13, 제목: A Coding Guide to Build an Optical Character Recog...\n",
      "  - ID: 4, 제목: A Coding Implementation to Build a Document Search...\n",
      "  - ID: 5, 제목: Kyutai Releases MoshiVis: The First Open-Source Re...\n",
      "  - ID: 6, 제목: Meet Attentive Reasoning Queries (ARQs): A Structu...\n",
      "  - ID: 9, 제목: A Step-by-Step Guide to Building a Semantic Search...\n"
     ]
    }
   ],
   "source": [
    "# 동기화 테이블 항목 조회\n",
    "try:\n",
    "    sync_entries = db_manager.get_sync_entries()\n",
    "    print(f\"✅ 동기화 테이블 항목 조회 성공: {len(sync_entries)}개 항목 조회됨\")\n",
    "    \n",
    "    # 항목이 있으면 첫 5개 항목 미리보기\n",
    "    if sync_entries:\n",
    "        print(\"\\n처음 5개 항목:\")\n",
    "        for entry in sync_entries[:5]:\n",
    "            print(f\"  - ID: {entry['id']}, 제목: {entry['title'][:50] if entry['title'] else 'No Title'}...\")\n",
    "    else:\n",
    "        print(\"동기화 테이블에 항목이 없습니다. 아직 동기화가 진행되지 않았을 수 있습니다.\")\n",
    "except Exception as e:\n",
    "    print(f\"❌ 동기화 테이블 항목 조회 실패: {e}\")"
   ]
  },
  {
   "cell_type": "markdown",
   "metadata": {},
   "source": [
    "## 3. Notion 관리자 테스트\n",
    "\n",
    "Notion API 연결 및 기본 함수들을 테스트합니다."
   ]
  },
  {
   "cell_type": "code",
   "execution_count": 8,
   "metadata": {},
   "outputs": [
    {
     "name": "stderr",
     "output_type": "stream",
     "text": [
      "2025-03-23 18:40:34,169 - INFO - HTTP Request: GET https://api.notion.com/v1/databases/1acf199edf7c8061a721d4b4d2dc3cb4 \"HTTP/1.1 200 OK\"\n",
      "2025-03-23 18:40:34,172 - INFO - Connected to Notion database: 읽을거리\n"
     ]
    },
    {
     "name": "stdout",
     "output_type": "stream",
     "text": [
      "✅ Notion API 연결 성공\n"
     ]
    }
   ],
   "source": [
    "from notion_manager import NotionManager\n",
    "\n",
    "# Notion 관리자 객체 생성\n",
    "notion_manager = NotionManager()\n",
    "\n",
    "# Notion API 연결\n",
    "try:\n",
    "    client = notion_manager.connect()\n",
    "    print(\"✅ Notion API 연결 성공\")\n",
    "except Exception as e:\n",
    "    print(f\"❌ Notion API 연결 실패: {e}\")"
   ]
  },
  {
   "cell_type": "code",
   "execution_count": 9,
   "metadata": {},
   "outputs": [
    {
     "name": "stderr",
     "output_type": "stream",
     "text": [
      "2025-03-23 18:40:36,861 - INFO - HTTP Request: GET https://api.notion.com/v1/databases/1acf199edf7c8061a721d4b4d2dc3cb4 \"HTTP/1.1 200 OK\"\n",
      "2025-03-23 18:40:36,864 - INFO - Retrieved Notion database structure\n"
     ]
    },
    {
     "name": "stdout",
     "output_type": "stream",
     "text": [
      "✅ Notion 데이터베이스 구조 조회 성공\n",
      "속성 수: 12\n",
      "데이터베이스 속성:\n",
      "  - Why it matters (rich_text)\n",
      "  - 담당 (people)\n",
      "  - Read (checkbox)\n",
      "  - URL (url)\n",
      "  - Score (select)\n",
      "  - Status (select)\n",
      "  - 리뷰어 코멘트 (rich_text)\n",
      "  - AI summary (rich_text)\n",
      "  - Created (created_time)\n",
      "  - 핸드북의 카테고리 (multi_select)\n",
      "  - Type (select)\n",
      "  - Name (title)\n"
     ]
    }
   ],
   "source": [
    "# Notion 데이터베이스 구조 조회\n",
    "try:\n",
    "    properties = notion_manager.get_database_structure()\n",
    "    print(\"✅ Notion 데이터베이스 구조 조회 성공\")\n",
    "    print(f\"속성 수: {len(properties)}\")\n",
    "    print(\"데이터베이스 속성:\")\n",
    "    for prop_name, prop_data in properties.items():\n",
    "        print(f\"  - {prop_name} ({prop_data.get('type', 'unknown')})\")\n",
    "except Exception as e:\n",
    "    print(f\"❌ Notion 데이터베이스 구조 조회 실패: {e}\")"
   ]
  },
  {
   "cell_type": "code",
   "execution_count": 10,
   "metadata": {},
   "outputs": [
    {
     "name": "stderr",
     "output_type": "stream",
     "text": [
      "2025-03-23 18:40:38,065 - INFO - HTTP Request: POST https://api.notion.com/v1/databases/1acf199edf7c8061a721d4b4d2dc3cb4/query \"HTTP/1.1 200 OK\"\n",
      "2025-03-23 18:40:38,074 - INFO - Retrieved 47 pages from Notion database\n"
     ]
    },
    {
     "name": "stdout",
     "output_type": "stream",
     "text": [
      "✅ Notion 데이터베이스 페이지 조회 성공: 47개 페이지 조회됨\n",
      "\n",
      "처음 3개 페이지 ID:\n",
      "  - Page 1: 1bff199e-df7c-8048-9010-dd8ead595457\n",
      "  - Page 2: 1bff199e-df7c-8018-a41e-fb57d514ea86\n",
      "  - Page 3: 1bff199e-df7c-80ae-9799-f23d4929f467\n",
      "\n",
      "첫 번째 페이지 데이터 추출:\n",
      "  - notion_page_id: 1bff199e-df7c-8048-9010-dd8ead595457\n",
      "  - title: The Ultimate Rules Template for CLINE/Cursor/RooCode/Windsurf that Actually Makes AI Remember Everything! (w/ Memory Bank & Software Engineering Best Practices)\n",
      "  - link: None\n",
      "  - content: \n",
      "  - updated: 2025-03-23 05:59:00+00:00\n",
      "  - published: 2025-03-23 05:59:00+00:00\n"
     ]
    }
   ],
   "source": [
    "# Notion 데이터베이스 페이지 조회\n",
    "try:\n",
    "    pages = notion_manager.get_database_pages()\n",
    "    print(f\"✅ Notion 데이터베이스 페이지 조회 성공: {len(pages)}개 페이지 조회됨\")\n",
    "    \n",
    "    # 첫 3개 페이지 간략 정보\n",
    "    if pages:\n",
    "        print(\"\\n처음 3개 페이지 ID:\")\n",
    "        for i, page in enumerate(pages[:3]):\n",
    "            page_id = page.get('id', 'Unknown ID')\n",
    "            print(f\"  - Page {i+1}: {page_id}\")\n",
    "            \n",
    "        # 첫 번째 페이지의 데이터 추출 테스트\n",
    "        if pages:\n",
    "            page_data = notion_manager.extract_page_data(pages[0])\n",
    "            print(f\"\\n첫 번째 페이지 데이터 추출:\")\n",
    "            for key, value in page_data.items():\n",
    "                if key == 'content' and value:\n",
    "                    print(f\"  - {key}: {value[:100]}...\")\n",
    "                else:\n",
    "                    print(f\"  - {key}: {value}\")\n",
    "    else:\n",
    "        print(\"Notion 데이터베이스에 페이지가 없습니다.\")\n",
    "except Exception as e:\n",
    "    print(f\"❌ Notion 데이터베이스 페이지 조회 실패: {e}\")"
   ]
  },
  {
   "cell_type": "markdown",
   "metadata": {},
   "source": [
    "## 4. 동기화 관리자 테스트\n",
    "\n",
    "데이터베이스와 Notion 간 동기화 기능을 테스트합니다."
   ]
  },
  {
   "cell_type": "code",
   "execution_count": 11,
   "metadata": {},
   "outputs": [
    {
     "name": "stderr",
     "output_type": "stream",
     "text": [
      "2025-03-23 18:40:39,521 - INFO - Connected to TTRSS database successfully\n",
      "2025-03-23 18:40:39,522 - INFO - Database connection established\n",
      "2025-03-23 18:40:39,522 - INFO - Skipping Notion API connection as requested\n",
      "2025-03-23 18:40:39,547 - INFO - Table ttrss_notion_sync already exists, skipping creation\n",
      "2025-03-23 18:40:39,547 - INFO - Sync table already exists\n",
      "2025-03-23 18:40:39,548 - INFO - Initialization complete\n"
     ]
    },
    {
     "name": "stdout",
     "output_type": "stream",
     "text": [
      "✅ 동기화 관리자 초기화 성공 (Notion 연결 없음)\n"
     ]
    }
   ],
   "source": [
    "from sync_manager import SyncManager\n",
    "\n",
    "# 동기화 관리자 객체 생성\n",
    "sync_manager = SyncManager()\n",
    "\n",
    "# 초기화 (Notion 연결 없이)\n",
    "try:\n",
    "    sync_manager.initialize(connect_notion=False) # notion에 연결하지 않고 테스트할 수 있습니다.\n",
    "    print(\"✅ 동기화 관리자 초기화 성공 (Notion 연결 없음)\")\n",
    "except Exception as e:\n",
    "    print(f\"❌ 동기화 관리자 초기화 실패: {e}\")"
   ]
  },
  {
   "cell_type": "code",
   "execution_count": 12,
   "metadata": {},
   "outputs": [
    {
     "name": "stderr",
     "output_type": "stream",
     "text": [
      "2025-03-23 18:40:40,912 - INFO - Connected to TTRSS database successfully\n",
      "2025-03-23 18:40:40,912 - INFO - Database connection established\n",
      "2025-03-23 18:40:41,363 - INFO - HTTP Request: GET https://api.notion.com/v1/databases/1acf199edf7c8061a721d4b4d2dc3cb4 \"HTTP/1.1 200 OK\"\n",
      "2025-03-23 18:40:41,365 - INFO - Connected to Notion database: 읽을거리\n",
      "2025-03-23 18:40:41,366 - INFO - Notion API connection established\n",
      "2025-03-23 18:40:41,391 - INFO - Table ttrss_notion_sync already exists, skipping creation\n",
      "2025-03-23 18:40:41,391 - INFO - Sync table already exists\n",
      "2025-03-23 18:40:41,392 - INFO - Initialization complete\n"
     ]
    },
    {
     "name": "stdout",
     "output_type": "stream",
     "text": [
      "✅ 동기화 관리자 초기화 성공 (Notion 연결 있음)\n"
     ]
    },
    {
     "name": "stderr",
     "output_type": "stream",
     "text": [
      "2025-03-23 18:40:42,055 - INFO - HTTP Request: POST https://api.notion.com/v1/databases/1acf199edf7c8061a721d4b4d2dc3cb4/query \"HTTP/1.1 200 OK\"\n",
      "2025-03-23 18:40:42,067 - INFO - Retrieved 47 pages from Notion database\n",
      "Processing Notion pages: 100%|██████████| 47/47 [00:00<00:00, 136329.38it/s]\n",
      "2025-03-23 18:40:42,092 - INFO - Processed 47 pages from Notion database\n"
     ]
    },
    {
     "name": "stdout",
     "output_type": "stream",
     "text": [
      "✅ Notion 데이터베이스 확인 성공: 47개 페이지 조회됨\n",
      "\n",
      "처음 3개 페이지:\n",
      "  - Page 1: The Ultimate Rules Template for CLINE/Cursor/RooCo... (ID: 1bff199e-d...)\n",
      "  - Page 2: AI Mock Interview System... (ID: 1bff199e-d...)\n",
      "  - Page 3: GPT - free tool to navigate to any section of chat... (ID: 1bff199e-d...)\n"
     ]
    }
   ],
   "source": [
    "# 초기화 (Notion 연결 없이)\n",
    "try:\n",
    "    sync_manager.initialize(connect_notion=True)\n",
    "    print(\"✅ 동기화 관리자 초기화 성공 (Notion 연결 있음)\")\n",
    "except Exception as e:\n",
    "    print(f\"❌ 동기화 관리자 초기화 실패: {e}\")\n",
    "\n",
    "# Notion 데이터베이스 확인 (이제 자동으로 연결됨)\n",
    "try:\n",
    "    notion_pages = sync_manager.check_notion_database()\n",
    "    print(f\"✅ Notion 데이터베이스 확인 성공: {len(notion_pages)}개 페이지 조회됨\")\n",
    "    \n",
    "    # 첫 3개 페이지 정보\n",
    "    if notion_pages:\n",
    "        print(\"\\n처음 3개 페이지:\")\n",
    "        for i, page in enumerate(notion_pages[:3]):\n",
    "            print(f\"  - Page {i+1}: {page['title'][:50]}... (ID: {page['notion_page_id'][:10]}...)\")\n",
    "    else:\n",
    "        print(\"Notion 데이터베이스에 페이지가 없습니다.\")\n",
    "except Exception as e:\n",
    "    print(f\"❌ Notion 데이터베이스 확인 실패: {e}\")"
   ]
  },
  {
   "cell_type": "code",
   "execution_count": 13,
   "metadata": {},
   "outputs": [
    {
     "name": "stderr",
     "output_type": "stream",
     "text": [
      "2025-03-23 18:40:43,601 - INFO - Retrieved 38 entries from ttrss_entries\n"
     ]
    },
    {
     "name": "stdout",
     "output_type": "stream",
     "text": [
      "✅ TTRSS 항목 확인 성공: 38개 항목 조회됨\n",
      "\n",
      "처음 3개 항목:\n",
      "  - Entry 1: 👏👏 Here are our 9 confirmed speakers for our miniC... (ID: 37)\n",
      "  - Entry 2: Code Implementation of a Rapid Disaster Assessment... (ID: 30)\n",
      "  - Entry 3: Microsoft AI Introduces Claimify: A Novel LLM-base... (ID: 4)\n"
     ]
    }
   ],
   "source": [
    "# TTRSS 항목 확인\n",
    "try:\n",
    "    ttrss_entries = sync_manager.check_ttrss_entries()\n",
    "    print(f\"✅ TTRSS 항목 확인 성공: {len(ttrss_entries)}개 항목 조회됨\")\n",
    "    \n",
    "    # 첫 3개 항목 정보\n",
    "    if ttrss_entries:\n",
    "        print(\"\\n처음 3개 항목:\")\n",
    "        for i, entry in enumerate(ttrss_entries[:3]):\n",
    "            print(f\"  - Entry {i+1}: {entry['title'][:50]}... (ID: {entry['id']})\")\n",
    "    else:\n",
    "        print(\"TTRSS에 항목이 없습니다. 피드를 구독하고 업데이트해야 할 수 있습니다.\")\n",
    "except Exception as e:\n",
    "    print(f\"❌ TTRSS 항목 확인 실패: {e}\")"
   ]
  },
  {
   "cell_type": "code",
   "execution_count": 14,
   "metadata": {},
   "outputs": [
    {
     "name": "stderr",
     "output_type": "stream",
     "text": [
      "2025-03-23 18:40:45,674 - INFO - Retrieved 38 entries from ttrss_entries\n",
      "2025-03-23 18:40:45,686 - INFO - Found 0 entries in TTRSS that are not in sync table\n",
      "2025-03-23 18:40:45,686 - INFO - Found 0 new entries in TTRSS\n"
     ]
    },
    {
     "name": "stdout",
     "output_type": "stream",
     "text": [
      "✅ TTRSS와 동기화 테이블 비교 성공: 0개의 새 항목 발견\n",
      "모든 TTRSS 항목이 이미 동기화 테이블에 있습니다.\n"
     ]
    }
   ],
   "source": [
    "# TTRSS와 동기화 테이블 비교\n",
    "try:\n",
    "    new_entries = sync_manager.compare_ttrss_with_sync()\n",
    "    print(f\"✅ TTRSS와 동기화 테이블 비교 성공: {len(new_entries)}개의 새 항목 발견\")\n",
    "    \n",
    "    # 첫 3개 새 항목 정보\n",
    "    if new_entries:\n",
    "        print(\"\\n처음 3개 새 항목:\")\n",
    "        for i, entry in enumerate(new_entries[:3]):\n",
    "            print(f\"  - New Entry {i+1}: {entry['title'][:50]}... (ID: {entry['id']})\")\n",
    "    else:\n",
    "        print(\"모든 TTRSS 항목이 이미 동기화 테이블에 있습니다.\")\n",
    "except Exception as e:\n",
    "    print(f\"❌ TTRSS와 동기화 테이블 비교 실패: {e}\")"
   ]
  },
  {
   "cell_type": "code",
   "execution_count": 15,
   "metadata": {},
   "outputs": [
    {
     "name": "stderr",
     "output_type": "stream",
     "text": [
      "2025-03-23 18:40:55,600 - INFO - HTTP Request: POST https://api.notion.com/v1/databases/1acf199edf7c8061a721d4b4d2dc3cb4/query \"HTTP/1.1 200 OK\"\n",
      "2025-03-23 18:40:55,608 - INFO - Retrieved 47 pages from Notion database\n",
      "Processing Notion pages: 100%|██████████| 47/47 [00:00<00:00, 431361.68it/s]\n",
      "2025-03-23 18:40:55,609 - INFO - Processed 47 pages from Notion database\n",
      "2025-03-23 18:40:55,647 - INFO - Retrieved 38 entries from ttrss_notion_sync\n",
      "2025-03-23 18:40:55,648 - INFO - Found 47 new pages in Notion\n",
      "2025-03-23 18:40:55,648 - INFO - Found 0 sync entries missing from Notion\n"
     ]
    },
    {
     "name": "stdout",
     "output_type": "stream",
     "text": [
      "✅ Notion과 동기화 테이블 비교 성공\n",
      "  - Notion에 새로 추가된 항목: 47개\n",
      "  - Notion에서 삭제된 항목: 0개\n",
      "\n",
      "처음 3개 새로 추가된 Notion 항목:\n",
      "  - New Page 1: The Ultimate Rules Template for CLINE/Cursor/RooCo... (ID: 1bff199e-d...)\n",
      "  - New Page 2: AI Mock Interview System... (ID: 1bff199e-d...)\n",
      "  - New Page 3: GPT - free tool to navigate to any section of chat... (ID: 1bff199e-d...)\n"
     ]
    }
   ],
   "source": [
    "# Notion과 동기화 테이블 비교\n",
    "try:\n",
    "    new_in_notion, missing_from_notion = sync_manager.compare_notion_with_sync()\n",
    "    print(f\"✅ Notion과 동기화 테이블 비교 성공\")\n",
    "    print(f\"  - Notion에 새로 추가된 항목: {len(new_in_notion)}개\")\n",
    "    print(f\"  - Notion에서 삭제된 항목: {len(missing_from_notion)}개\")\n",
    "    \n",
    "    # 새로 추가된 항목 정보\n",
    "    if new_in_notion:\n",
    "        print(\"\\n처음 3개 새로 추가된 Notion 항목:\")\n",
    "        for i, page in enumerate(new_in_notion[:3]):\n",
    "            print(f\"  - New Page {i+1}: {page['title'][:50]}... (ID: {page['notion_page_id'][:10]}...)\")\n",
    "    \n",
    "    # 삭제된 항목 정보\n",
    "    if missing_from_notion:\n",
    "        print(\"\\n처음 3개 삭제된 Notion 항목:\")\n",
    "        for i, entry in enumerate(missing_from_notion[:3]):\n",
    "            print(f\"  - Missing Page {i+1}: {entry['title'][:50] if entry['title'] else 'No Title'}... (ID: {entry['notion_page_id'][:10]}...)\")\n",
    "except Exception as e:\n",
    "    print(f\"❌ Notion과 동기화 테이블 비교 실패: {e}\")"
   ]
  },
  {
   "cell_type": "markdown",
   "metadata": {},
   "source": [
    "## 5. 샘플 동기화 실행 (테스트 전용)\n",
    "\n",
    "⚠️ 주의: 이 섹션은 실제 동기화를 수행합니다. 테스트 환경에서만 실행하세요."
   ]
  },
  {
   "cell_type": "code",
   "execution_count": 16,
   "metadata": {},
   "outputs": [
    {
     "name": "stderr",
     "output_type": "stream",
     "text": [
      "2025-03-23 18:41:17,128 - INFO - Retrieved 38 entries from ttrss_entries\n",
      "2025-03-23 18:41:17,137 - INFO - Found 0 entries in TTRSS that are not in sync table\n",
      "2025-03-23 18:41:17,138 - INFO - Found 0 new entries in TTRSS\n",
      "Adding new TTRSS entries to sync table: 0it [00:00, ?it/s]\n",
      "2025-03-23 18:41:17,139 - INFO - Added 0 new TTRSS entries to sync table\n"
     ]
    },
    {
     "name": "stdout",
     "output_type": "stream",
     "text": [
      "✅ TTRSS 항목 동기화 성공: 0개 항목 추가됨\n"
     ]
    }
   ],
   "source": [
    "# TTRSS 항목을 동기화 테이블로 동기화\n",
    "# 실행하기 전에 주석 처리를 제거하세요\n",
    "\n",
    "# try:\n",
    "#     added = sync_manager.sync_ttrss_to_sync_table()\n",
    "#     print(f\"✅ TTRSS 항목 동기화 성공: {added}개 항목 추가됨\")\n",
    "# except Exception as e:\n",
    "#     print(f\"❌ TTRSS 항목 동기화 실패: {e}\")"
   ]
  },
  {
   "cell_type": "code",
   "execution_count": 19,
   "metadata": {},
   "outputs": [
    {
     "name": "stderr",
     "output_type": "stream",
     "text": [
      "2025-03-23 18:41:57,085 - INFO - HTTP Request: POST https://api.notion.com/v1/databases/1acf199edf7c8061a721d4b4d2dc3cb4/query \"HTTP/1.1 200 OK\"\n",
      "2025-03-23 18:41:57,246 - INFO - Retrieved 47 pages from Notion database\n",
      "Processing Notion pages: 100%|██████████| 47/47 [00:00<00:00, 228162.37it/s]\n",
      "2025-03-23 18:41:57,248 - INFO - Processed 47 pages from Notion database\n",
      "2025-03-23 18:41:57,286 - INFO - Retrieved 79 entries from ttrss_notion_sync\n",
      "2025-03-23 18:41:57,287 - INFO - Found 6 new pages in Notion\n",
      "2025-03-23 18:41:57,287 - INFO - Found 0 sync entries missing from Notion\n",
      "Adding new Notion pages to sync table:   0%|          | 0/6 [00:00<?, ?it/s]2025-03-23 18:41:57,296 - INFO - Found duplicate entry: 36 (source: ttrss)\n",
      "2025-03-23 18:41:57,296 - INFO - Skipping duplicate Notion entry: 1bff199e-df7c-8008-a051-d277f5ca2d34 (title: [ICASSP 2025] BANC: Towards Efficient Binaural Audio Neural Codec for Overlapping Speech)\n",
      "2025-03-23 18:41:57,304 - INFO - Found duplicate entry: 16 (source: ttrss)\n",
      "2025-03-23 18:41:57,304 - INFO - Skipping duplicate Notion entry: 1bff199e-df7c-80d8-be62-d03e7fa44de0 (title: Microsoft AI Releases RD-Agent: An AI-Driven Tool for Performing R&D with LLM-based Agents)\n",
      "2025-03-23 18:41:57,312 - INFO - Found duplicate entry: 30 (source: ttrss)\n",
      "2025-03-23 18:41:57,312 - INFO - Skipping duplicate Notion entry: 1b8f199e-df7c-809e-903a-da76531651fd (title: Optimizing Test-Time Compute for LLMs: A Meta-Reinforcement Learning Approach with Cumulative Regret Minimization)\n",
      "2025-03-23 18:41:57,320 - INFO - Found duplicate entry: 34 (source: ttrss)\n",
      "2025-03-23 18:41:57,320 - INFO - Skipping duplicate Notion entry: 1b8f199e-df7c-809b-8fdb-f6bec88c39e1 (title: A Coding Guide to Build a Multimodal Image Captioning App Using Salesforce BLIP Model, Streamlit, Ngrok, and Hugging Face [COLAB NOTEBOOK INCLUDED])\n",
      "2025-03-23 18:41:57,328 - INFO - Found duplicate entry: 14 (source: ttrss)\n",
      "2025-03-23 18:41:57,329 - INFO - Skipping duplicate Notion entry: 1b8f199e-df7c-80e7-8201-c2154a9c3161 (title: Patronus AI Introduces the Industry’s First Multimodal LLM-as-a-Judge (MLLM-as-a-Judge): Designed to Evaluate and Optimize AI Systems that Convert Image Inputs into Text Outputs)\n",
      "2025-03-23 18:41:57,337 - INFO - Found duplicate entry: 10 (source: ttrss)\n",
      "2025-03-23 18:41:57,337 - INFO - Skipping duplicate Notion entry: 1b8f199e-df7c-80d6-9f81-c5b733e182fa (title: A Code Implementation to Build an AI-Powered PDF Interaction System in Google Colab Using Gemini Flash 1.5, PyMuPDF, and Google Generative AI API)\n",
      "Adding new Notion pages to sync table: 100%|██████████| 6/6 [00:00<00:00, 120.65it/s]\n",
      "Removing orphaned sync records: 0it [00:00, ?it/s]\n",
      "2025-03-23 18:41:57,339 - INFO - Added 6 new Notion pages to sync table\n",
      "2025-03-23 18:41:57,339 - INFO - Removed 0 orphaned sync records\n"
     ]
    },
    {
     "name": "stdout",
     "output_type": "stream",
     "text": [
      "✅ Notion 데이터베이스 동기화 성공\n",
      "  - 추가된 항목: 6개\n",
      "  - 제거된 항목: 0개\n"
     ]
    }
   ],
   "source": [
    "# Notion 데이터베이스를 동기화 테이블로 동기화\n",
    "# 실행하기 전에 주석 처리를 제거하세요\n",
    "\n",
    "# try:\n",
    "#     added, removed = sync_manager.sync_notion_to_sync_table()\n",
    "#     print(f\"✅ Notion 데이터베이스 동기화 성공\")\n",
    "#     print(f\"  - 추가된 항목: {added}개\")\n",
    "#     print(f\"  - 제거된 항목: {removed}개\")\n",
    "# except Exception as e:\n",
    "#     print(f\"❌ Notion 데이터베이스 동기화 실패: {e}\")"
   ]
  },
  {
   "cell_type": "code",
   "execution_count": 20,
   "metadata": {},
   "outputs": [
    {
     "name": "stderr",
     "output_type": "stream",
     "text": [
      "2025-03-23 18:44:35,981 - INFO - Found 21 entries to sync to Notion\n",
      "Syncing to Notion:   0%|          | 0/21 [00:00<?, ?it/s]2025-03-23 18:44:36,810 - INFO - HTTP Request: POST https://api.notion.com/v1/pages \"HTTP/1.1 400 Bad Request\"\n",
      "2025-03-23 18:44:36,812 - ERROR - Error creating Notion page: body failed validation: body.properties.Why it matters.rich_text[0].text.content.length should be ≤ `2000`, instead was `2002`.\n",
      "2025-03-23 18:44:36,813 - ERROR - Entry data: {\"id\": 9, \"ttrss_entry_id\": 3, \"title\": \"A Step-by-Step Guide to Building a Semantic Search Engine with Sentence Transformers, FAISS, and all-MiniLM-L6-v2 [\\ud83d\\udcbb Colab Notebook Included]\", \"content\": \"<table> <tr><td> <a href=\\\"https://www.reddit.com/r/machinelearningnews/comments/1jg8egg/a_stepbystep_guide_to_building_a_semantic_search/\\\"> <img src=\\\"https://b.thumbs.redditmedia.com/uPep74DW943R4jFYESjPRZ-4icpFGNkFPpP8pOpuLeU.jpg\\\" alt=\\\"A Step-by-Step Guide to Building a Semantic Search...\n",
      "Syncing to Notion:   5%|▍         | 1/21 [00:00<00:16,  1.20it/s]2025-03-23 18:44:37,776 - INFO - HTTP Request: POST https://api.notion.com/v1/pages \"HTTP/1.1 200 OK\"\n",
      "2025-03-23 18:44:37,777 - INFO - Created Notion page for entry: Groundlight Research Team Released an Open-Source AI Framework that Makes It Easy to Build Visual Reasoning Agents (with GRPO)\n",
      "2025-03-23 18:44:37,795 - INFO - Updated sync status for entry 18\n",
      "Syncing to Notion:  10%|▉         | 2/21 [00:02<00:23,  1.22s/it]2025-03-23 18:44:38,784 - INFO - HTTP Request: POST https://api.notion.com/v1/pages \"HTTP/1.1 200 OK\"\n",
      "2025-03-23 18:44:38,786 - INFO - Created Notion page for entry: HPC-AI Tech Releases Open-Sora 2.0: An Open-Source SOTA-Level Video Generation Model Trained for Just $200K\n",
      "2025-03-23 18:44:38,808 - INFO - Updated sync status for entry 19\n",
      "Syncing to Notion:  14%|█▍        | 3/21 [00:03<00:20,  1.12s/it]2025-03-23 18:44:39,850 - INFO - HTTP Request: POST https://api.notion.com/v1/pages \"HTTP/1.1 200 OK\"\n",
      "2025-03-23 18:44:39,852 - INFO - Created Notion page for entry: List of Implementations/Tutorials/AI Coding Projects (Colab Notebooks Included)\n",
      "2025-03-23 18:44:39,874 - INFO - Updated sync status for entry 20\n",
      "Syncing to Notion:  19%|█▉        | 4/21 [00:04<00:18,  1.10s/it]2025-03-23 18:44:40,921 - INFO - HTTP Request: POST https://api.notion.com/v1/pages \"HTTP/1.1 200 OK\"\n",
      "2025-03-23 18:44:40,923 - INFO - Created Notion page for entry: Meet PC-Agent: A Hierarchical Multi-Agent Collaboration Framework for Complex Task Automation on PC\n",
      "2025-03-23 18:44:40,946 - INFO - Updated sync status for entry 21\n",
      "Syncing to Notion:  24%|██▍       | 5/21 [00:05<00:17,  1.09s/it]2025-03-23 18:44:45,498 - INFO - HTTP Request: POST https://api.notion.com/v1/pages \"HTTP/1.1 200 OK\"\n",
      "2025-03-23 18:44:45,501 - INFO - Created Notion page for entry: Cohere Released Command A: A 111B Parameter AI Model with 256K Context Length, 23-Language Support, and 50% Cost Reduction for Enterprises\n",
      "2025-03-23 18:44:45,525 - INFO - Updated sync status for entry 22\n",
      "Syncing to Notion:  29%|██▊       | 6/21 [00:10<00:34,  2.28s/it]2025-03-23 18:44:47,428 - INFO - HTTP Request: POST https://api.notion.com/v1/pages \"HTTP/1.1 200 OK\"\n",
      "2025-03-23 18:44:47,431 - INFO - Created Notion page for entry: NVIDIA AI Just Open Sourced Canary 1B and 180M Flash – Multilingual Speech Recognition and Translation Models\n",
      "2025-03-23 18:44:47,455 - INFO - Updated sync status for entry 23\n",
      "Syncing to Notion:  33%|███▎      | 7/21 [00:11<00:30,  2.16s/it]2025-03-23 18:44:48,515 - INFO - HTTP Request: POST https://api.notion.com/v1/pages \"HTTP/1.1 200 OK\"\n",
      "2025-03-23 18:44:48,518 - INFO - Created Notion page for entry: 👏👏 Here are our 9 confirmed speakers for our miniCON 2025-OPEN SOURCE AI [Time: April 12, 9 am- 11:15 am PST] (Event is FREE of cost)\n",
      "2025-03-23 18:44:48,541 - INFO - Updated sync status for entry 24\n",
      "Syncing to Notion:  38%|███▊      | 8/21 [00:13<00:23,  1.82s/it]2025-03-23 18:44:49,683 - INFO - HTTP Request: POST https://api.notion.com/v1/pages \"HTTP/1.1 200 OK\"\n",
      "2025-03-23 18:44:49,686 - INFO - Created Notion page for entry: Fin-R1: A Specialized Large Language Model for Financial Reasoning and Decision-Making\n",
      "2025-03-23 18:44:49,710 - INFO - Updated sync status for entry 25\n",
      "Syncing to Notion:  43%|████▎     | 9/21 [00:14<00:19,  1.62s/it]2025-03-23 18:44:50,709 - INFO - HTTP Request: POST https://api.notion.com/v1/pages \"HTTP/1.1 200 OK\"\n",
      "2025-03-23 18:44:50,711 - INFO - Created Notion page for entry: Strongcompute most stupid company ever\n",
      "2025-03-23 18:44:50,733 - INFO - Updated sync status for entry 26\n",
      "Syncing to Notion:  48%|████▊     | 10/21 [00:15<00:15,  1.43s/it]2025-03-23 18:44:54,099 - INFO - HTTP Request: POST https://api.notion.com/v1/pages \"HTTP/1.1 200 OK\"\n",
      "2025-03-23 18:44:54,102 - INFO - Created Notion page for entry: Building a Retrieval-Augmented Generation (RAG) System with FAISS and Open-Source LLMs (Colab Notebook Included)\n",
      "2025-03-23 18:44:54,128 - INFO - Updated sync status for entry 27\n",
      "Syncing to Notion:  52%|█████▏    | 11/21 [00:18<00:20,  2.03s/it]2025-03-23 18:44:55,171 - INFO - HTTP Request: POST https://api.notion.com/v1/pages \"HTTP/1.1 200 OK\"\n",
      "2025-03-23 18:44:55,174 - INFO - Created Notion page for entry: This AI Paper Introduces BD3-LMs: A Hybrid Approach Combining Autoregressive and Diffusion Models for Scalable and Efficient Text Generation\n",
      "2025-03-23 18:44:55,199 - INFO - Updated sync status for entry 28\n",
      "Syncing to Notion:  57%|█████▋    | 12/21 [00:19<00:15,  1.74s/it]2025-03-23 18:44:57,324 - INFO - HTTP Request: POST https://api.notion.com/v1/pages \"HTTP/1.1 200 OK\"\n",
      "2025-03-23 18:44:57,328 - INFO - Created Notion page for entry: Optimizing Test-Time Compute for LLMs: A Meta-Reinforcement Learning Approach with Cumulative Regret Minimization\n",
      "2025-03-23 18:44:57,350 - INFO - Updated sync status for entry 30\n",
      "Syncing to Notion:  62%|██████▏   | 13/21 [00:21<00:14,  1.87s/it]2025-03-23 18:44:58,859 - INFO - HTTP Request: POST https://api.notion.com/v1/pages \"HTTP/1.1 200 OK\"\n",
      "2025-03-23 18:44:58,863 - INFO - Created Notion page for entry: Allen Institute for AI (AI2) Releases OLMo 32B: A Fully Open Model to Beat GPT 3.5 and GPT-4o mini on a Suite of Multi-Skill Benchmarks\n",
      "2025-03-23 18:44:58,886 - INFO - Updated sync status for entry 31\n",
      "Syncing to Notion:  67%|██████▋   | 14/21 [00:23<00:12,  1.77s/it]2025-03-23 18:45:01,446 - INFO - HTTP Request: POST https://api.notion.com/v1/pages \"HTTP/1.1 200 OK\"\n",
      "2025-03-23 18:45:01,448 - INFO - Created Notion page for entry: MMR1-Math-v0-7B Model and MMR1-Math-RL-Data-v0 Dataset Released: New State of the Art Benchmark in Efficient Multimodal Mathematical Reasoning with Minimal Data\n",
      "2025-03-23 18:45:01,471 - INFO - Updated sync status for entry 32\n",
      "Syncing to Notion:  71%|███████▏  | 15/21 [00:25<00:12,  2.01s/it]2025-03-23 18:45:02,406 - INFO - HTTP Request: POST https://api.notion.com/v1/pages \"HTTP/1.1 200 OK\"\n",
      "2025-03-23 18:45:02,410 - INFO - Created Notion page for entry: Thrilled to launch our issue of Open-Source AI Magazine! Featuring exclusive interviews with industry leaders like Robert Nishihara Anita Lacea Amr Awadallah Leonard Tang Animesh Singh Yam Marcovitz, Hamza Tahir from LinkedIn, insights from xAI, and more. Dive into breakthrough stories....\n",
      "2025-03-23 18:45:02,435 - INFO - Updated sync status for entry 33\n",
      "Syncing to Notion:  76%|███████▌  | 16/21 [00:26<00:08,  1.70s/it]2025-03-23 18:45:04,363 - INFO - HTTP Request: POST https://api.notion.com/v1/pages \"HTTP/1.1 200 OK\"\n",
      "2025-03-23 18:45:04,365 - INFO - Created Notion page for entry: A Coding Guide to Build a Multimodal Image Captioning App Using Salesforce BLIP Model, Streamlit, Ngrok, and Hugging Face [COLAB NOTEBOOK INCLUDED]\n",
      "2025-03-23 18:45:04,387 - INFO - Updated sync status for entry 34\n",
      "Syncing to Notion:  81%|████████  | 17/21 [00:28<00:07,  1.77s/it]2025-03-23 18:45:05,453 - INFO - HTTP Request: POST https://api.notion.com/v1/pages \"HTTP/1.1 200 OK\"\n",
      "2025-03-23 18:45:05,454 - INFO - Created Notion page for entry: Simular Releases Agent S2: An Open, Modular, and Scalable AI Framework for Computer Use Agents\n",
      "2025-03-23 18:45:05,477 - INFO - Updated sync status for entry 35\n",
      "Syncing to Notion:  86%|████████▌ | 18/21 [00:29<00:04,  1.57s/it]2025-03-23 18:45:06,411 - INFO - HTTP Request: POST https://api.notion.com/v1/pages \"HTTP/1.1 200 OK\"\n",
      "2025-03-23 18:45:06,412 - INFO - Created Notion page for entry: [ICASSP 2025] BANC: Towards Efficient Binaural Audio Neural Codec for Overlapping Speech\n",
      "2025-03-23 18:45:06,435 - INFO - Updated sync status for entry 36\n",
      "Syncing to Notion:  90%|█████████ | 19/21 [00:30<00:02,  1.39s/it]2025-03-23 18:45:08,954 - INFO - HTTP Request: POST https://api.notion.com/v1/pages \"HTTP/1.1 200 OK\"\n",
      "2025-03-23 18:45:08,955 - INFO - Created Notion page for entry: Synthetic data for AI training—worth it or just hype?\n",
      "2025-03-23 18:45:08,984 - INFO - Updated sync status for entry 37\n",
      "Syncing to Notion:  95%|█████████▌| 20/21 [00:33<00:01,  1.73s/it]2025-03-23 18:45:10,618 - INFO - HTTP Request: POST https://api.notion.com/v1/pages \"HTTP/1.1 200 OK\"\n",
      "2025-03-23 18:45:10,621 - INFO - Created Notion page for entry: Alibaba Researchers Introduce R1-Omni: An Application of Reinforcement Learning with Verifiable Reward (RLVR) to an Omni-Multimodal Large Language Model\n",
      "2025-03-23 18:45:10,644 - INFO - Updated sync status for entry 38\n",
      "Syncing to Notion: 100%|██████████| 21/21 [00:35<00:00,  1.67s/it]\n",
      "2025-03-23 18:45:11,147 - INFO - Synced 20 entries to Notion\n"
     ]
    },
    {
     "name": "stdout",
     "output_type": "stream",
     "text": [
      "✅ Notion으로 동기화 성공: 20개 항목 동기화됨\n"
     ]
    }
   ],
   "source": [
    "# 동기화 테이블의 항목을 Notion으로 동기화\n",
    "# 실행하기 전에 주석 처리를 제거하세요\n",
    "\n",
    "try:\n",
    "    synced = sync_manager.sync_to_notion()\n",
    "    print(f\"✅ Notion으로 동기화 성공: {synced}개 항목 동기화됨\")\n",
    "except Exception as e:\n",
    "    print(f\"❌ Notion으로 동기화 실패: {e}\")"
   ]
  },
  {
   "cell_type": "code",
   "execution_count": 21,
   "metadata": {},
   "outputs": [
    {
     "name": "stderr",
     "output_type": "stream",
     "text": [
      "2025-03-23 18:49:49,064 - INFO - Step 1: Syncing Notion to sync table\n",
      "2025-03-23 18:49:51,450 - INFO - HTTP Request: POST https://api.notion.com/v1/databases/1acf199edf7c8061a721d4b4d2dc3cb4/query \"HTTP/1.1 200 OK\"\n",
      "2025-03-23 18:49:51,460 - INFO - Retrieved 67 pages from Notion database\n",
      "Processing Notion pages: 100%|██████████| 67/67 [00:00<00:00, 462962.71it/s]\n",
      "2025-03-23 18:49:51,461 - INFO - Processed 67 pages from Notion database\n",
      "2025-03-23 18:49:51,502 - INFO - Retrieved 79 entries from ttrss_notion_sync\n",
      "2025-03-23 18:49:51,503 - INFO - Found 6 new pages in Notion\n",
      "2025-03-23 18:49:51,503 - INFO - Found 0 sync entries missing from Notion\n",
      "Adding new Notion pages to sync table:   0%|          | 0/6 [00:00<?, ?it/s]2025-03-23 18:49:51,511 - INFO - Found duplicate entry: 36 (source: ttrss)\n",
      "2025-03-23 18:49:51,511 - INFO - Skipping duplicate Notion entry: 1bff199e-df7c-8008-a051-d277f5ca2d34 (title: [ICASSP 2025] BANC: Towards Efficient Binaural Audio Neural Codec for Overlapping Speech)\n",
      "2025-03-23 18:49:51,518 - INFO - Found duplicate entry: 16 (source: ttrss)\n",
      "2025-03-23 18:49:51,519 - INFO - Skipping duplicate Notion entry: 1bff199e-df7c-80d8-be62-d03e7fa44de0 (title: Microsoft AI Releases RD-Agent: An AI-Driven Tool for Performing R&D with LLM-based Agents)\n",
      "2025-03-23 18:49:51,526 - INFO - Found duplicate entry: 30 (source: ttrss)\n",
      "2025-03-23 18:49:51,526 - INFO - Skipping duplicate Notion entry: 1b8f199e-df7c-809e-903a-da76531651fd (title: Optimizing Test-Time Compute for LLMs: A Meta-Reinforcement Learning Approach with Cumulative Regret Minimization)\n",
      "2025-03-23 18:49:51,534 - INFO - Found duplicate entry: 34 (source: ttrss)\n",
      "2025-03-23 18:49:51,534 - INFO - Skipping duplicate Notion entry: 1b8f199e-df7c-809b-8fdb-f6bec88c39e1 (title: A Coding Guide to Build a Multimodal Image Captioning App Using Salesforce BLIP Model, Streamlit, Ngrok, and Hugging Face [COLAB NOTEBOOK INCLUDED])\n",
      "2025-03-23 18:49:51,541 - INFO - Found duplicate entry: 14 (source: ttrss)\n",
      "2025-03-23 18:49:51,541 - INFO - Skipping duplicate Notion entry: 1b8f199e-df7c-80e7-8201-c2154a9c3161 (title: Patronus AI Introduces the Industry’s First Multimodal LLM-as-a-Judge (MLLM-as-a-Judge): Designed to Evaluate and Optimize AI Systems that Convert Image Inputs into Text Outputs)\n",
      "2025-03-23 18:49:51,547 - INFO - Found duplicate entry: 10 (source: ttrss)\n",
      "2025-03-23 18:49:51,548 - INFO - Skipping duplicate Notion entry: 1b8f199e-df7c-80d6-9f81-c5b733e182fa (title: A Code Implementation to Build an AI-Powered PDF Interaction System in Google Colab Using Gemini Flash 1.5, PyMuPDF, and Google Generative AI API)\n",
      "Adding new Notion pages to sync table: 100%|██████████| 6/6 [00:00<00:00, 137.43it/s]\n",
      "Removing orphaned sync records: 0it [00:00, ?it/s]\n",
      "2025-03-23 18:49:51,549 - INFO - Added 6 new Notion pages to sync table\n",
      "2025-03-23 18:49:51,549 - INFO - Removed 0 orphaned sync records\n",
      "2025-03-23 18:49:51,549 - INFO - Step 2: Syncing TTRSS to sync table\n",
      "2025-03-23 18:49:51,567 - INFO - Retrieved 38 entries from ttrss_entries\n",
      "2025-03-23 18:49:51,575 - INFO - Found 0 entries in TTRSS that are not in sync table\n",
      "2025-03-23 18:49:51,576 - INFO - Found 0 new entries in TTRSS\n",
      "Adding new TTRSS entries to sync table: 0it [00:00, ?it/s]\n",
      "2025-03-23 18:49:51,577 - INFO - Added 0 new TTRSS entries to sync table\n",
      "2025-03-23 18:49:51,577 - INFO - Step 3: Syncing new entries to Notion\n",
      "2025-03-23 18:49:51,585 - INFO - Found 1 entries to sync to Notion\n",
      "Syncing to Notion:   0%|          | 0/1 [00:00<?, ?it/s]2025-03-23 18:49:51,775 - INFO - HTTP Request: POST https://api.notion.com/v1/pages \"HTTP/1.1 400 Bad Request\"\n",
      "2025-03-23 18:49:51,777 - ERROR - Error creating Notion page: body failed validation: body.properties.Why it matters.rich_text[0].text.content.length should be ≤ `2000`, instead was `2002`.\n",
      "2025-03-23 18:49:51,777 - ERROR - Entry data: {\"id\": 9, \"ttrss_entry_id\": 3, \"title\": \"A Step-by-Step Guide to Building a Semantic Search Engine with Sentence Transformers, FAISS, and all-MiniLM-L6-v2 [\\ud83d\\udcbb Colab Notebook Included]\", \"content\": \"<table> <tr><td> <a href=\\\"https://www.reddit.com/r/machinelearningnews/comments/1jg8egg/a_stepbystep_guide_to_building_a_semantic_search/\\\"> <img src=\\\"https://b.thumbs.redditmedia.com/uPep74DW943R4jFYESjPRZ-4icpFGNkFPpP8pOpuLeU.jpg\\\" alt=\\\"A Step-by-Step Guide to Building a Semantic Search...\n",
      "Syncing to Notion: 100%|██████████| 1/1 [00:00<00:00,  5.17it/s]\n",
      "2025-03-23 18:49:51,779 - INFO - Synced 0 entries to Notion\n"
     ]
    },
    {
     "name": "stdout",
     "output_type": "stream",
     "text": [
      "✅ 전체 동기화 성공\n",
      "  - Notion에서 추가된 항목: 6개\n",
      "  - 동기화 테이블에서 제거된 항목: 0개\n",
      "  - TTRSS에서 추가된 항목: 0개\n",
      "  - Notion으로 동기화된 항목: 0개\n"
     ]
    }
   ],
   "source": [
    "# 전체 동기화 실행\n",
    "# 실행하기 전에 주석 처리를 제거하세요\n",
    "\n",
    "try:\n",
    "    results = sync_manager.perform_full_sync()\n",
    "    print(\"✅ 전체 동기화 성공\")\n",
    "    print(f\"  - Notion에서 추가된 항목: {results['added_from_notion']}개\")\n",
    "    print(f\"  - 동기화 테이블에서 제거된 항목: {results['removed_from_sync']}개\")\n",
    "    print(f\"  - TTRSS에서 추가된 항목: {results['added_from_ttrss']}개\")\n",
    "    print(f\"  - Notion으로 동기화된 항목: {results['synced_to_notion']}개\")\n",
    "except Exception as e:\n",
    "    print(f\"❌ 전체 동기화 실패: {e}\")"
   ]
  },
  {
   "cell_type": "markdown",
   "metadata": {},
   "source": [
    "## 6. 연결 종료"
   ]
  },
  {
   "cell_type": "code",
   "execution_count": 22,
   "metadata": {},
   "outputs": [
    {
     "name": "stderr",
     "output_type": "stream",
     "text": [
      "2025-03-23 18:50:09,026 - INFO - Database connection closed\n",
      "2025-03-23 18:50:09,026 - INFO - Connections closed\n"
     ]
    },
    {
     "name": "stdout",
     "output_type": "stream",
     "text": [
      "✅ 모든 연결 종료 완료\n"
     ]
    }
   ],
   "source": [
    "# 연결 종료\n",
    "sync_manager.close()\n",
    "print(\"✅ 모든 연결 종료 완료\")"
   ]
  },
  {
   "cell_type": "markdown",
   "metadata": {},
   "source": [
    "## 7. 테스트 정리\n",
    "\n",
    "테스트 결과를 정리합니다. 각 테스트의 성공/실패 여부와 조치가 필요한 항목을 확인하세요.\n",
    "\n",
    "### 다음 단계\n",
    "\n",
    "1. 실제 동기화를 수행하려면 5번 섹션의 주석을 제거하고 실행하세요.\n",
    "2. 명령줄에서 동기화를 실행하려면 `python -m ttrss_notion_sync_app.main full-sync` 명령을 사용하세요.\n",
    "3. 정기적인 동기화를 위해 cron 작업이나 스케줄러를 설정하는 것을 고려하세요."
   ]
  }
 ],
 "metadata": {
  "kernelspec": {
   "display_name": "hand",
   "language": "python",
   "name": "python3"
  },
  "language_info": {
   "codemirror_mode": {
    "name": "ipython",
    "version": 3
   },
   "file_extension": ".py",
   "mimetype": "text/x-python",
   "name": "python",
   "nbconvert_exporter": "python",
   "pygments_lexer": "ipython3",
   "version": "3.12.9"
  }
 },
 "nbformat": 4,
 "nbformat_minor": 4
}
