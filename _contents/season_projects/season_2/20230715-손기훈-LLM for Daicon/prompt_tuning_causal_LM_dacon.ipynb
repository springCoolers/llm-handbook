{
 "cells": [
  {
   "cell_type": "code",
   "execution_count": 46,
   "id": "937565d0-a3c2-4552-a081-1e2a3d2cf138",
   "metadata": {},
   "outputs": [],
   "source": [
    "from transformers import AutoModelForCausalLM, AutoTokenizer, default_data_collator, get_linear_schedule_with_warmup\n",
    "from peft import get_peft_config, get_peft_model, PromptTuningInit, PromptTuningConfig, TaskType, PeftType\n",
    "import torch\n",
    "from datasets import load_dataset\n",
    "import os\n",
    "from torch.utils.data import DataLoader, Dataset\n",
    "from tqdm import tqdm\n",
    "\n",
    "device = \"cuda\"\n",
    "model_name_or_path = \"bigscience/bloomz-560m\"\n",
    "tokenizer_name_or_path = \"bigscience/bloomz-560m\"\n",
    "peft_config = PromptTuningConfig(\n",
    "    task_type=TaskType.CAUSAL_LM,\n",
    "    prompt_tuning_init=PromptTuningInit.TEXT,\n",
    "    num_virtual_tokens=8,\n",
    "    tokenizer_name_or_path=model_name_or_path,\n",
    ")\n",
    "\n",
    "dataset_name = \"judge_data\"\n",
    "checkpoint_name = f\"{dataset_name}_{model_name_or_path}_{peft_config.peft_type}_{peft_config.task_type}_v1.pt\".replace(\n",
    "    \"/\", \"_\"\n",
    ")\n",
    "text_column = \"prompt\"\n",
    "label_column = \"text_label\"\n",
    "max_length = 64\n",
    "lr = 3e-2\n",
    "num_epochs = 50\n",
    "batch_size = 8"
   ]
  },
  {
   "cell_type": "code",
   "execution_count": 49,
   "id": "8b2fa2be-56a8-4966-9ca4-55ca80607efc",
   "metadata": {},
   "outputs": [
    {
     "data": {
      "text/plain": [
       "{'ID': 'TRAIN_0001',\n",
       " 'prompt': ' facts: Ramon Nelson was riding his bike when he suffered a lethal blow to the back of his head with a baseball bat. After two eyewitnesses identified Lawrence Owens from an array of photos and then a lineup, he was tried and convicted for Nelson’s death. Because Nelson was carrying cocaine and crack cocaine potentially for distribution, the judge at Owens’ bench trial ruled that Owens was probably also a drug dealer and was trying to “knock [Nelson] off.” Owens was found guilty of first-degree murder and sentenced to 25 years in prison.\\nOwens filed a petition for a writ of habeas corpus on the grounds that his constitutional right to due process was violated during the trial. He argued that the eyewitness identification should have been inadmissible based on unreliability and that the judge impermissibly inferred a motive when a motive was not an element of the offense. The district court denied the writ of habeas corpus, and Owens appealed. The U.S. Court of Appeals for the Seventh Circuit reversed the denial and held that the trial judge’s inference about Owens’s motive violated his right to have his guilt adjudicated solely based on the evidence presented at trial.\\n instruction : does Lawrence Owens win? answer : ',\n",
       " 'label': 0,\n",
       " 'answer': 'yes',\n",
       " 'is_first_in': 0,\n",
       " 'is_second_in': 1}"
      ]
     },
     "execution_count": 49,
     "metadata": {},
     "output_type": "execute_result"
    }
   ],
   "source": [
    "import pickle\n",
    "with open('train_json.pickle', 'rb') as f:\n",
    "    dataset = pickle.load(f)\n",
    "\n",
    "dataset[\"root\"][0]\n"
   ]
  },
  {
   "cell_type": "code",
   "execution_count": 27,
   "id": "9506c495-301b-4526-9830-85066445db87",
   "metadata": {},
   "outputs": [
    {
     "data": {
      "text/plain": [
       "Counter({2: 33, 1: 17})"
      ]
     },
     "execution_count": 27,
     "metadata": {},
     "output_type": "execute_result"
    }
   ],
   "source": [
    "from collections import Counter\n",
    "\n",
    "labels = list(map(lambda x: x['Label'], dataset['train']))\n",
    "counter = Counter(labels)\n",
    "counter"
   ]
  },
  {
   "cell_type": "code",
   "execution_count": 28,
   "id": "2cfb7d20-1d91-46c2-a783-680b5983fa43",
   "metadata": {},
   "outputs": [
    {
     "data": {
      "text/plain": [
       "Counter({0: 3399})"
      ]
     },
     "execution_count": 28,
     "metadata": {},
     "output_type": "execute_result"
    }
   ],
   "source": [
    "labels = list(map(lambda x: x['Label'], dataset['test']))\n",
    "counter = Counter(labels)\n",
    "counter"
   ]
  },
  {
   "cell_type": "code",
   "execution_count": 29,
   "id": "7ba934f5-1ae8-40f4-9386-512a66aa7905",
   "metadata": {},
   "outputs": [
    {
     "name": "stderr",
     "output_type": "stream",
     "text": [
      "Loading cached processed dataset at /root/.cache/huggingface/datasets/ought___raft/twitter_complaints/1.1.0/79c4de1312c1e3730043f7db07179c914f48403101f7124e2fe336f6f54d9f84/cache-d412a834430f1a60.arrow\n",
      "Loading cached processed dataset at /root/.cache/huggingface/datasets/ought___raft/twitter_complaints/1.1.0/79c4de1312c1e3730043f7db07179c914f48403101f7124e2fe336f6f54d9f84/cache-53af518f9692b496.arrow\n"
     ]
    }
   ],
   "source": [
    "classes = [k.replace(\"_\", \" \") for k in dataset[\"train\"].features[\"Label\"].names]\n",
    "dataset = dataset.map(\n",
    "    lambda x: {\"text_label\": [classes[label] for label in x[\"Label\"]]},\n",
    "    batched=True,\n",
    "    num_proc=1,\n",
    ")\n",
    "\n"
   ]
  },
  {
   "cell_type": "code",
   "execution_count": 30,
   "id": "c7515e65-ca9c-4cb1-a406-b378699a93ac",
   "metadata": {},
   "outputs": [
    {
     "name": "stdout",
     "output_type": "stream",
     "text": [
      "3\n",
      "2\n",
      "3\n"
     ]
    }
   ],
   "source": [
    "tokenizer = AutoTokenizer.from_pretrained(model_name_or_path)\n",
    "print(tokenizer.pad_token_id )\n",
    "print(tokenizer.eos_token_id)\n",
    "if tokenizer.pad_token_id is None:\n",
    "    tokenizer.pad_token_id = tokenizer.eos_token_id\n",
    "target_max_length = max([len(tokenizer(class_label)[\"input_ids\"]) for class_label in classes])\n",
    "print(target_max_length)\n"
   ]
  },
  {
   "cell_type": "code",
   "execution_count": 34,
   "id": "f0bf588d-40e6-4f2d-8953-f9b3421f8a7d",
   "metadata": {},
   "outputs": [],
   "source": [
    "def preprocess_function(examples):\n",
    "    batch_size = len(examples[text_column])\n",
    "    inputs = [f\"{text_column} : {x} Label : \" for x in examples[text_column]]\n",
    "    targets = [str(x) for x in examples[label_column]]\n",
    "    model_inputs = tokenizer(inputs)\n",
    "    labels = tokenizer(targets)\n",
    "    for i in range(batch_size):\n",
    "        sample_input_ids = model_inputs[\"input_ids\"][i]\n",
    "        label_input_ids = labels[\"input_ids\"][i] + [tokenizer.pad_token_id] # pad token 더해줌 eos 토큰으로 사용\n",
    "#         print(i, sample_input_ids, label_input_ids)\n",
    "        model_inputs[\"input_ids\"][i] = sample_input_ids + label_input_ids # \"... label :\"의 토큰 뒤에 라벨 토큰 까지 더해줌\n",
    "        labels[\"input_ids\"][i] = [-100] * len(sample_input_ids) + label_input_ids # \"... label :\"의 토큰까지 -100으로 가려주는 듯\n",
    "        model_inputs[\"attention_mask\"][i] = [1] * len(model_inputs[\"input_ids\"][i])\n",
    "    # print(model_inputs)\n",
    "    for i in range(batch_size):\n",
    "        sample_input_ids = model_inputs[\"input_ids\"][i]\n",
    "        label_input_ids = labels[\"input_ids\"][i]\n",
    "        # 패딩토큰이 신기하게 앞에서부터 붙는다.\n",
    "        model_inputs[\"input_ids\"][i] = [tokenizer.pad_token_id] * (\n",
    "            max_length - len(sample_input_ids)\n",
    "        ) + sample_input_ids\n",
    "        \n",
    "        #패딩 토큰 길이만큼 마스킹해줌\n",
    "        model_inputs[\"attention_mask\"][i] = [0] * (max_length - len(sample_input_ids)) + model_inputs[\n",
    "            \"attention_mask\"\n",
    "        ][i]\n",
    "        \n",
    "        # input까지 -100 토큰으로 만듦\n",
    "        labels[\"input_ids\"][i] = [-100] * (max_length - len(sample_input_ids)) + label_input_ids\n",
    "        model_inputs[\"input_ids\"][i] = torch.tensor(model_inputs[\"input_ids\"][i][:max_length])\n",
    "        model_inputs[\"attention_mask\"][i] = torch.tensor(model_inputs[\"attention_mask\"][i][:max_length])\n",
    "        labels[\"input_ids\"][i] = torch.tensor(labels[\"input_ids\"][i][:max_length])\n",
    "    model_inputs[\"labels\"] = labels[\"input_ids\"]\n",
    "    return model_inputs"
   ]
  },
  {
   "cell_type": "code",
   "execution_count": 35,
   "id": "e5bff197-053c-4dc2-b285-114d4d112776",
   "metadata": {},
   "outputs": [],
   "source": [
    "# inputs = [f\"{text_column} : {x} Label : \" for x in dataset['train'][text_column]]\n",
    "# targets = [str(x) for x in dataset['train'][label_column]]\n",
    "\n",
    "# model_inputs = tokenizer(inputs)\n",
    "# labels = tokenizer(targets)\n",
    "\n",
    "# labels['input_ids'][0] + [tokenizer.pad_token_id]"
   ]
  },
  {
   "cell_type": "code",
   "execution_count": 36,
   "id": "89f8f728-14ba-4643-98f5-db9f159bc9e5",
   "metadata": {},
   "outputs": [
    {
     "data": {
      "application/vnd.jupyter.widget-view+json": {
       "model_id": "",
       "version_major": 2,
       "version_minor": 0
      },
      "text/plain": [
       "Running tokenizer on dataset:   0%|          | 0/50 [00:00<?, ? examples/s]"
      ]
     },
     "metadata": {},
     "output_type": "display_data"
    },
    {
     "data": {
      "application/vnd.jupyter.widget-view+json": {
       "model_id": "",
       "version_major": 2,
       "version_minor": 0
      },
      "text/plain": [
       "Running tokenizer on dataset:   0%|          | 0/3399 [00:00<?, ? examples/s]"
      ]
     },
     "metadata": {},
     "output_type": "display_data"
    }
   ],
   "source": [
    "processed_datasets = dataset.map(\n",
    "    preprocess_function,\n",
    "    batched=True,\n",
    "    num_proc=1,\n",
    "    remove_columns=dataset[\"train\"].column_names,\n",
    "    load_from_cache_file=False,\n",
    "    desc=\"Running tokenizer on dataset\",\n",
    ")"
   ]
  },
  {
   "cell_type": "code",
   "execution_count": 39,
   "id": "4e3dcd24-f8d7-47ca-a1c3-7b56c2f71ef7",
   "metadata": {},
   "outputs": [],
   "source": [
    "train_dataset = processed_datasets[\"train\"]\n",
    "eval_dataset = processed_datasets[\"train\"]\n",
    "\n",
    "\n",
    "train_dataloader = DataLoader(\n",
    "    train_dataset, shuffle=True, collate_fn=default_data_collator, batch_size=batch_size, pin_memory=True\n",
    ")\n",
    "eval_dataloader = DataLoader(eval_dataset, collate_fn=default_data_collator, batch_size=batch_size, pin_memory=True)"
   ]
  },
  {
   "cell_type": "code",
   "execution_count": 37,
   "id": "38c293e9-3871-4ce5-b3de-9a818201b050",
   "metadata": {},
   "outputs": [
    {
     "data": {
      "application/vnd.jupyter.widget-view+json": {
       "model_id": "1ff41a9498834806aece00080a3b2c5c",
       "version_major": 2,
       "version_minor": 0
      },
      "text/plain": [
       "Downloading (…)lve/main/config.json:   0%|          | 0.00/715 [00:00<?, ?B/s]"
      ]
     },
     "metadata": {},
     "output_type": "display_data"
    },
    {
     "data": {
      "application/vnd.jupyter.widget-view+json": {
       "model_id": "6a0919d380a045f5b10611b1e77d2e47",
       "version_major": 2,
       "version_minor": 0
      },
      "text/plain": [
       "Downloading pytorch_model.bin:   0%|          | 0.00/1.12G [00:00<?, ?B/s]"
      ]
     },
     "metadata": {},
     "output_type": "display_data"
    },
    {
     "name": "stdout",
     "output_type": "stream",
     "text": [
      "trainable params: 8192 || all params: 559222784 || trainable%: 0.0014648902430985358\n",
      "None\n"
     ]
    }
   ],
   "source": [
    "model = AutoModelForCausalLM.from_pretrained(model_name_or_path)\n",
    "model = get_peft_model(model, peft_config)\n",
    "print(model.print_trainable_parameters())"
   ]
  },
  {
   "cell_type": "code",
   "execution_count": 40,
   "id": "aabdab9e-e1e9-46f8-afb2-92b1671eb689",
   "metadata": {},
   "outputs": [],
   "source": [
    "optimizer = torch.optim.AdamW(model.parameters(), lr=lr)\n",
    "lr_scheduler = get_linear_schedule_with_warmup(\n",
    "    optimizer=optimizer,\n",
    "    num_warmup_steps=0,\n",
    "    num_training_steps=(len(train_dataloader) * num_epochs),\n",
    ")"
   ]
  },
  {
   "cell_type": "code",
   "execution_count": 41,
   "id": "45e1b67e-9651-4d01-9203-51972f32aaae",
   "metadata": {},
   "outputs": [
    {
     "name": "stderr",
     "output_type": "stream",
     "text": [
      "100%|██████████| 7/7 [00:02<00:00,  3.31it/s]\n",
      "100%|██████████| 7/7 [00:00<00:00, 17.89it/s]\n"
     ]
    },
    {
     "name": "stdout",
     "output_type": "stream",
     "text": [
      "epoch=0: train_ppl=tensor(4.2881e+14, device='cuda:0') train_epoch_loss=tensor(33.6920, device='cuda:0') eval_ppl=tensor(173441.0312, device='cuda:0') eval_epoch_loss=tensor(12.0636, device='cuda:0')\n"
     ]
    },
    {
     "name": "stderr",
     "output_type": "stream",
     "text": [
      "100%|██████████| 7/7 [00:00<00:00,  8.62it/s]\n",
      "100%|██████████| 7/7 [00:00<00:00, 17.76it/s]\n"
     ]
    },
    {
     "name": "stdout",
     "output_type": "stream",
     "text": [
      "epoch=1: train_ppl=tensor(50299.2578, device='cuda:0') train_epoch_loss=tensor(10.8257, device='cuda:0') eval_ppl=tensor(8842.6875, device='cuda:0') eval_epoch_loss=tensor(9.0873, device='cuda:0')\n"
     ]
    },
    {
     "name": "stderr",
     "output_type": "stream",
     "text": [
      "100%|██████████| 7/7 [00:00<00:00,  8.64it/s]\n",
      "100%|██████████| 7/7 [00:00<00:00, 17.73it/s]\n"
     ]
    },
    {
     "name": "stdout",
     "output_type": "stream",
     "text": [
      "epoch=2: train_ppl=tensor(4863.9214, device='cuda:0') train_epoch_loss=tensor(8.4896, device='cuda:0') eval_ppl=tensor(2762.5493, device='cuda:0') eval_epoch_loss=tensor(7.9239, device='cuda:0')\n"
     ]
    },
    {
     "name": "stderr",
     "output_type": "stream",
     "text": [
      "100%|██████████| 7/7 [00:00<00:00,  8.63it/s]\n",
      "100%|██████████| 7/7 [00:00<00:00, 17.64it/s]\n"
     ]
    },
    {
     "name": "stdout",
     "output_type": "stream",
     "text": [
      "epoch=3: train_ppl=tensor(1732.8114, device='cuda:0') train_epoch_loss=tensor(7.4575, device='cuda:0') eval_ppl=tensor(982.8829, device='cuda:0') eval_epoch_loss=tensor(6.8905, device='cuda:0')\n"
     ]
    },
    {
     "name": "stderr",
     "output_type": "stream",
     "text": [
      "100%|██████████| 7/7 [00:00<00:00,  8.64it/s]\n",
      "100%|██████████| 7/7 [00:00<00:00, 17.65it/s]\n"
     ]
    },
    {
     "name": "stdout",
     "output_type": "stream",
     "text": [
      "epoch=4: train_ppl=tensor(688.2207, device='cuda:0') train_epoch_loss=tensor(6.5341, device='cuda:0') eval_ppl=tensor(452.0320, device='cuda:0') eval_epoch_loss=tensor(6.1138, device='cuda:0')\n"
     ]
    },
    {
     "name": "stderr",
     "output_type": "stream",
     "text": [
      "100%|██████████| 7/7 [00:00<00:00,  8.59it/s]\n",
      "100%|██████████| 7/7 [00:00<00:00, 17.83it/s]\n"
     ]
    },
    {
     "name": "stdout",
     "output_type": "stream",
     "text": [
      "epoch=5: train_ppl=tensor(360.7234, device='cuda:0') train_epoch_loss=tensor(5.8881, device='cuda:0') eval_ppl=tensor(307.4142, device='cuda:0') eval_epoch_loss=tensor(5.7282, device='cuda:0')\n"
     ]
    },
    {
     "name": "stderr",
     "output_type": "stream",
     "text": [
      "100%|██████████| 7/7 [00:00<00:00,  8.55it/s]\n",
      "100%|██████████| 7/7 [00:00<00:00, 17.85it/s]\n"
     ]
    },
    {
     "name": "stdout",
     "output_type": "stream",
     "text": [
      "epoch=6: train_ppl=tensor(271.1061, device='cuda:0') train_epoch_loss=tensor(5.6025, device='cuda:0') eval_ppl=tensor(242.7101, device='cuda:0') eval_epoch_loss=tensor(5.4919, device='cuda:0')\n"
     ]
    },
    {
     "name": "stderr",
     "output_type": "stream",
     "text": [
      "100%|██████████| 7/7 [00:00<00:00,  8.60it/s]\n",
      "100%|██████████| 7/7 [00:00<00:00, 17.69it/s]\n"
     ]
    },
    {
     "name": "stdout",
     "output_type": "stream",
     "text": [
      "epoch=7: train_ppl=tensor(227.7112, device='cuda:0') train_epoch_loss=tensor(5.4281, device='cuda:0') eval_ppl=tensor(213.7055, device='cuda:0') eval_epoch_loss=tensor(5.3646, device='cuda:0')\n"
     ]
    },
    {
     "name": "stderr",
     "output_type": "stream",
     "text": [
      "100%|██████████| 7/7 [00:00<00:00,  8.65it/s]\n",
      "100%|██████████| 7/7 [00:00<00:00, 17.71it/s]\n"
     ]
    },
    {
     "name": "stdout",
     "output_type": "stream",
     "text": [
      "epoch=8: train_ppl=tensor(200.9868, device='cuda:0') train_epoch_loss=tensor(5.3032, device='cuda:0') eval_ppl=tensor(187.0248, device='cuda:0') eval_epoch_loss=tensor(5.2312, device='cuda:0')\n"
     ]
    },
    {
     "name": "stderr",
     "output_type": "stream",
     "text": [
      "100%|██████████| 7/7 [00:00<00:00,  8.56it/s]\n",
      "100%|██████████| 7/7 [00:00<00:00, 17.73it/s]\n"
     ]
    },
    {
     "name": "stdout",
     "output_type": "stream",
     "text": [
      "epoch=9: train_ppl=tensor(184.8970, device='cuda:0') train_epoch_loss=tensor(5.2198, device='cuda:0') eval_ppl=tensor(176.3887, device='cuda:0') eval_epoch_loss=tensor(5.1727, device='cuda:0')\n"
     ]
    },
    {
     "name": "stderr",
     "output_type": "stream",
     "text": [
      "100%|██████████| 7/7 [00:00<00:00,  8.58it/s]\n",
      "100%|██████████| 7/7 [00:00<00:00, 17.69it/s]\n"
     ]
    },
    {
     "name": "stdout",
     "output_type": "stream",
     "text": [
      "epoch=10: train_ppl=tensor(159.3382, device='cuda:0') train_epoch_loss=tensor(5.0710, device='cuda:0') eval_ppl=tensor(158.1386, device='cuda:0') eval_epoch_loss=tensor(5.0635, device='cuda:0')\n"
     ]
    },
    {
     "name": "stderr",
     "output_type": "stream",
     "text": [
      "100%|██████████| 7/7 [00:00<00:00,  8.64it/s]\n",
      "100%|██████████| 7/7 [00:00<00:00, 17.63it/s]\n"
     ]
    },
    {
     "name": "stdout",
     "output_type": "stream",
     "text": [
      "epoch=11: train_ppl=tensor(149.3111, device='cuda:0') train_epoch_loss=tensor(5.0060, device='cuda:0') eval_ppl=tensor(142.0712, device='cuda:0') eval_epoch_loss=tensor(4.9563, device='cuda:0')\n"
     ]
    },
    {
     "name": "stderr",
     "output_type": "stream",
     "text": [
      "100%|██████████| 7/7 [00:00<00:00,  8.58it/s]\n",
      "100%|██████████| 7/7 [00:00<00:00, 17.83it/s]\n"
     ]
    },
    {
     "name": "stdout",
     "output_type": "stream",
     "text": [
      "epoch=12: train_ppl=tensor(132.0486, device='cuda:0') train_epoch_loss=tensor(4.8832, device='cuda:0') eval_ppl=tensor(126.0212, device='cuda:0') eval_epoch_loss=tensor(4.8365, device='cuda:0')\n"
     ]
    },
    {
     "name": "stderr",
     "output_type": "stream",
     "text": [
      "100%|██████████| 7/7 [00:00<00:00,  8.56it/s]\n",
      "100%|██████████| 7/7 [00:00<00:00, 17.72it/s]\n"
     ]
    },
    {
     "name": "stdout",
     "output_type": "stream",
     "text": [
      "epoch=13: train_ppl=tensor(118.5394, device='cuda:0') train_epoch_loss=tensor(4.7752, device='cuda:0') eval_ppl=tensor(111.2468, device='cuda:0') eval_epoch_loss=tensor(4.7118, device='cuda:0')\n"
     ]
    },
    {
     "name": "stderr",
     "output_type": "stream",
     "text": [
      "100%|██████████| 7/7 [00:00<00:00,  8.62it/s]\n",
      "100%|██████████| 7/7 [00:00<00:00, 17.67it/s]\n"
     ]
    },
    {
     "name": "stdout",
     "output_type": "stream",
     "text": [
      "epoch=14: train_ppl=tensor(105.6340, device='cuda:0') train_epoch_loss=tensor(4.6600, device='cuda:0') eval_ppl=tensor(100.1513, device='cuda:0') eval_epoch_loss=tensor(4.6067, device='cuda:0')\n"
     ]
    },
    {
     "name": "stderr",
     "output_type": "stream",
     "text": [
      "100%|██████████| 7/7 [00:00<00:00,  8.56it/s]\n",
      "100%|██████████| 7/7 [00:00<00:00, 17.95it/s]\n"
     ]
    },
    {
     "name": "stdout",
     "output_type": "stream",
     "text": [
      "epoch=15: train_ppl=tensor(95.7403, device='cuda:0') train_epoch_loss=tensor(4.5616, device='cuda:0') eval_ppl=tensor(97.1842, device='cuda:0') eval_epoch_loss=tensor(4.5766, device='cuda:0')\n"
     ]
    },
    {
     "name": "stderr",
     "output_type": "stream",
     "text": [
      "100%|██████████| 7/7 [00:00<00:00,  8.56it/s]\n",
      "100%|██████████| 7/7 [00:00<00:00, 17.71it/s]\n"
     ]
    },
    {
     "name": "stdout",
     "output_type": "stream",
     "text": [
      "epoch=16: train_ppl=tensor(98.8151, device='cuda:0') train_epoch_loss=tensor(4.5933, device='cuda:0') eval_ppl=tensor(82.6520, device='cuda:0') eval_epoch_loss=tensor(4.4146, device='cuda:0')\n"
     ]
    },
    {
     "name": "stderr",
     "output_type": "stream",
     "text": [
      "100%|██████████| 7/7 [00:00<00:00,  8.64it/s]\n",
      "100%|██████████| 7/7 [00:00<00:00, 17.92it/s]\n"
     ]
    },
    {
     "name": "stdout",
     "output_type": "stream",
     "text": [
      "epoch=17: train_ppl=tensor(78.3777, device='cuda:0') train_epoch_loss=tensor(4.3615, device='cuda:0') eval_ppl=tensor(89.8826, device='cuda:0') eval_epoch_loss=tensor(4.4985, device='cuda:0')\n"
     ]
    },
    {
     "name": "stderr",
     "output_type": "stream",
     "text": [
      "100%|██████████| 7/7 [00:00<00:00,  8.62it/s]\n",
      "100%|██████████| 7/7 [00:00<00:00, 17.63it/s]\n"
     ]
    },
    {
     "name": "stdout",
     "output_type": "stream",
     "text": [
      "epoch=18: train_ppl=tensor(77.8051, device='cuda:0') train_epoch_loss=tensor(4.3542, device='cuda:0') eval_ppl=tensor(70.1819, device='cuda:0') eval_epoch_loss=tensor(4.2511, device='cuda:0')\n"
     ]
    },
    {
     "name": "stderr",
     "output_type": "stream",
     "text": [
      "100%|██████████| 7/7 [00:00<00:00,  8.53it/s]\n",
      "100%|██████████| 7/7 [00:00<00:00, 17.68it/s]\n"
     ]
    },
    {
     "name": "stdout",
     "output_type": "stream",
     "text": [
      "epoch=19: train_ppl=tensor(71.7673, device='cuda:0') train_epoch_loss=tensor(4.2734, device='cuda:0') eval_ppl=tensor(59.7134, device='cuda:0') eval_epoch_loss=tensor(4.0896, device='cuda:0')\n"
     ]
    },
    {
     "name": "stderr",
     "output_type": "stream",
     "text": [
      "100%|██████████| 7/7 [00:00<00:00,  8.60it/s]\n",
      "100%|██████████| 7/7 [00:00<00:00, 17.69it/s]\n"
     ]
    },
    {
     "name": "stdout",
     "output_type": "stream",
     "text": [
      "epoch=20: train_ppl=tensor(66.8891, device='cuda:0') train_epoch_loss=tensor(4.2030, device='cuda:0') eval_ppl=tensor(66.7881, device='cuda:0') eval_epoch_loss=tensor(4.2015, device='cuda:0')\n"
     ]
    },
    {
     "name": "stderr",
     "output_type": "stream",
     "text": [
      "100%|██████████| 7/7 [00:00<00:00,  8.54it/s]\n",
      "100%|██████████| 7/7 [00:00<00:00, 17.80it/s]\n"
     ]
    },
    {
     "name": "stdout",
     "output_type": "stream",
     "text": [
      "epoch=21: train_ppl=tensor(58.7686, device='cuda:0') train_epoch_loss=tensor(4.0736, device='cuda:0') eval_ppl=tensor(54.7310, device='cuda:0') eval_epoch_loss=tensor(4.0024, device='cuda:0')\n"
     ]
    },
    {
     "name": "stderr",
     "output_type": "stream",
     "text": [
      "100%|██████████| 7/7 [00:00<00:00,  8.59it/s]\n",
      "100%|██████████| 7/7 [00:00<00:00, 17.76it/s]\n"
     ]
    },
    {
     "name": "stdout",
     "output_type": "stream",
     "text": [
      "epoch=22: train_ppl=tensor(51.7243, device='cuda:0') train_epoch_loss=tensor(3.9459, device='cuda:0') eval_ppl=tensor(44.9345, device='cuda:0') eval_epoch_loss=tensor(3.8052, device='cuda:0')\n"
     ]
    },
    {
     "name": "stderr",
     "output_type": "stream",
     "text": [
      "100%|██████████| 7/7 [00:00<00:00,  8.62it/s]\n",
      "100%|██████████| 7/7 [00:00<00:00, 17.86it/s]\n"
     ]
    },
    {
     "name": "stdout",
     "output_type": "stream",
     "text": [
      "epoch=23: train_ppl=tensor(44.3017, device='cuda:0') train_epoch_loss=tensor(3.7910, device='cuda:0') eval_ppl=tensor(47.1121, device='cuda:0') eval_epoch_loss=tensor(3.8525, device='cuda:0')\n"
     ]
    },
    {
     "name": "stderr",
     "output_type": "stream",
     "text": [
      "100%|██████████| 7/7 [00:00<00:00,  8.63it/s]\n",
      "100%|██████████| 7/7 [00:00<00:00, 17.95it/s]\n"
     ]
    },
    {
     "name": "stdout",
     "output_type": "stream",
     "text": [
      "epoch=24: train_ppl=tensor(41.0405, device='cuda:0') train_epoch_loss=tensor(3.7146, device='cuda:0') eval_ppl=tensor(36.9260, device='cuda:0') eval_epoch_loss=tensor(3.6089, device='cuda:0')\n"
     ]
    },
    {
     "name": "stderr",
     "output_type": "stream",
     "text": [
      "100%|██████████| 7/7 [00:00<00:00,  8.62it/s]\n",
      "100%|██████████| 7/7 [00:00<00:00, 17.70it/s]\n"
     ]
    },
    {
     "name": "stdout",
     "output_type": "stream",
     "text": [
      "epoch=25: train_ppl=tensor(35.0990, device='cuda:0') train_epoch_loss=tensor(3.5582, device='cuda:0') eval_ppl=tensor(32.9335, device='cuda:0') eval_epoch_loss=tensor(3.4945, device='cuda:0')\n"
     ]
    },
    {
     "name": "stderr",
     "output_type": "stream",
     "text": [
      "100%|██████████| 7/7 [00:00<00:00,  8.63it/s]\n",
      "100%|██████████| 7/7 [00:00<00:00, 17.76it/s]\n"
     ]
    },
    {
     "name": "stdout",
     "output_type": "stream",
     "text": [
      "epoch=26: train_ppl=tensor(31.0442, device='cuda:0') train_epoch_loss=tensor(3.4354, device='cuda:0') eval_ppl=tensor(31.1133, device='cuda:0') eval_epoch_loss=tensor(3.4376, device='cuda:0')\n"
     ]
    },
    {
     "name": "stderr",
     "output_type": "stream",
     "text": [
      "100%|██████████| 7/7 [00:00<00:00,  8.57it/s]\n",
      "100%|██████████| 7/7 [00:00<00:00, 17.81it/s]\n"
     ]
    },
    {
     "name": "stdout",
     "output_type": "stream",
     "text": [
      "epoch=27: train_ppl=tensor(28.5602, device='cuda:0') train_epoch_loss=tensor(3.3520, device='cuda:0') eval_ppl=tensor(29.1819, device='cuda:0') eval_epoch_loss=tensor(3.3735, device='cuda:0')\n"
     ]
    },
    {
     "name": "stderr",
     "output_type": "stream",
     "text": [
      "100%|██████████| 7/7 [00:00<00:00,  8.57it/s]\n",
      "100%|██████████| 7/7 [00:00<00:00, 17.72it/s]\n"
     ]
    },
    {
     "name": "stdout",
     "output_type": "stream",
     "text": [
      "epoch=28: train_ppl=tensor(26.2681, device='cuda:0') train_epoch_loss=tensor(3.2684, device='cuda:0') eval_ppl=tensor(27.1434, device='cuda:0') eval_epoch_loss=tensor(3.3011, device='cuda:0')\n"
     ]
    },
    {
     "name": "stderr",
     "output_type": "stream",
     "text": [
      "100%|██████████| 7/7 [00:00<00:00,  8.64it/s]\n",
      "100%|██████████| 7/7 [00:00<00:00, 17.59it/s]\n"
     ]
    },
    {
     "name": "stdout",
     "output_type": "stream",
     "text": [
      "epoch=29: train_ppl=tensor(25.0023, device='cuda:0') train_epoch_loss=tensor(3.2190, device='cuda:0') eval_ppl=tensor(23.8199, device='cuda:0') eval_epoch_loss=tensor(3.1705, device='cuda:0')\n"
     ]
    },
    {
     "name": "stderr",
     "output_type": "stream",
     "text": [
      "100%|██████████| 7/7 [00:00<00:00,  8.52it/s]\n",
      "100%|██████████| 7/7 [00:00<00:00, 17.58it/s]\n"
     ]
    },
    {
     "name": "stdout",
     "output_type": "stream",
     "text": [
      "epoch=30: train_ppl=tensor(22.8478, device='cuda:0') train_epoch_loss=tensor(3.1289, device='cuda:0') eval_ppl=tensor(20.9909, device='cuda:0') eval_epoch_loss=tensor(3.0441, device='cuda:0')\n"
     ]
    },
    {
     "name": "stderr",
     "output_type": "stream",
     "text": [
      "100%|██████████| 7/7 [00:00<00:00,  8.51it/s]\n",
      "100%|██████████| 7/7 [00:00<00:00, 17.85it/s]\n"
     ]
    },
    {
     "name": "stdout",
     "output_type": "stream",
     "text": [
      "epoch=31: train_ppl=tensor(20.1247, device='cuda:0') train_epoch_loss=tensor(3.0019, device='cuda:0') eval_ppl=tensor(19.9585, device='cuda:0') eval_epoch_loss=tensor(2.9937, device='cuda:0')\n"
     ]
    },
    {
     "name": "stderr",
     "output_type": "stream",
     "text": [
      "100%|██████████| 7/7 [00:00<00:00,  8.58it/s]\n",
      "100%|██████████| 7/7 [00:00<00:00, 17.84it/s]\n"
     ]
    },
    {
     "name": "stdout",
     "output_type": "stream",
     "text": [
      "epoch=32: train_ppl=tensor(21.5360, device='cuda:0') train_epoch_loss=tensor(3.0697, device='cuda:0') eval_ppl=tensor(18.4238, device='cuda:0') eval_epoch_loss=tensor(2.9136, device='cuda:0')\n"
     ]
    },
    {
     "name": "stderr",
     "output_type": "stream",
     "text": [
      "100%|██████████| 7/7 [00:00<00:00,  8.62it/s]\n",
      "100%|██████████| 7/7 [00:00<00:00, 17.62it/s]\n"
     ]
    },
    {
     "name": "stdout",
     "output_type": "stream",
     "text": [
      "epoch=33: train_ppl=tensor(17.8694, device='cuda:0') train_epoch_loss=tensor(2.8831, device='cuda:0') eval_ppl=tensor(18.4168, device='cuda:0') eval_epoch_loss=tensor(2.9133, device='cuda:0')\n"
     ]
    },
    {
     "name": "stderr",
     "output_type": "stream",
     "text": [
      "100%|██████████| 7/7 [00:00<00:00,  8.52it/s]\n",
      "100%|██████████| 7/7 [00:00<00:00, 17.63it/s]\n"
     ]
    },
    {
     "name": "stdout",
     "output_type": "stream",
     "text": [
      "epoch=34: train_ppl=tensor(16.1998, device='cuda:0') train_epoch_loss=tensor(2.7850, device='cuda:0') eval_ppl=tensor(15.8449, device='cuda:0') eval_epoch_loss=tensor(2.7628, device='cuda:0')\n"
     ]
    },
    {
     "name": "stderr",
     "output_type": "stream",
     "text": [
      "100%|██████████| 7/7 [00:00<00:00,  8.60it/s]\n",
      "100%|██████████| 7/7 [00:00<00:00, 17.60it/s]\n"
     ]
    },
    {
     "name": "stdout",
     "output_type": "stream",
     "text": [
      "epoch=35: train_ppl=tensor(14.6532, device='cuda:0') train_epoch_loss=tensor(2.6847, device='cuda:0') eval_ppl=tensor(14.6513, device='cuda:0') eval_epoch_loss=tensor(2.6845, device='cuda:0')\n"
     ]
    },
    {
     "name": "stderr",
     "output_type": "stream",
     "text": [
      "100%|██████████| 7/7 [00:00<00:00,  8.55it/s]\n",
      "100%|██████████| 7/7 [00:00<00:00, 17.76it/s]\n"
     ]
    },
    {
     "name": "stdout",
     "output_type": "stream",
     "text": [
      "epoch=36: train_ppl=tensor(13.5581, device='cuda:0') train_epoch_loss=tensor(2.6070, device='cuda:0') eval_ppl=tensor(13.0999, device='cuda:0') eval_epoch_loss=tensor(2.5726, device='cuda:0')\n"
     ]
    },
    {
     "name": "stderr",
     "output_type": "stream",
     "text": [
      "100%|██████████| 7/7 [00:00<00:00,  8.62it/s]\n",
      "100%|██████████| 7/7 [00:00<00:00, 17.61it/s]\n"
     ]
    },
    {
     "name": "stdout",
     "output_type": "stream",
     "text": [
      "epoch=37: train_ppl=tensor(12.3204, device='cuda:0') train_epoch_loss=tensor(2.5113, device='cuda:0') eval_ppl=tensor(15.4956, device='cuda:0') eval_epoch_loss=tensor(2.7406, device='cuda:0')\n"
     ]
    },
    {
     "name": "stderr",
     "output_type": "stream",
     "text": [
      "100%|██████████| 7/7 [00:00<00:00,  8.53it/s]\n",
      "100%|██████████| 7/7 [00:00<00:00, 17.65it/s]\n"
     ]
    },
    {
     "name": "stdout",
     "output_type": "stream",
     "text": [
      "epoch=38: train_ppl=tensor(12.5170, device='cuda:0') train_epoch_loss=tensor(2.5271, device='cuda:0') eval_ppl=tensor(11.0059, device='cuda:0') eval_epoch_loss=tensor(2.3984, device='cuda:0')\n"
     ]
    },
    {
     "name": "stderr",
     "output_type": "stream",
     "text": [
      "100%|██████████| 7/7 [00:00<00:00,  8.59it/s]\n",
      "100%|██████████| 7/7 [00:00<00:00, 17.52it/s]\n"
     ]
    },
    {
     "name": "stdout",
     "output_type": "stream",
     "text": [
      "epoch=39: train_ppl=tensor(10.9561, device='cuda:0') train_epoch_loss=tensor(2.3939, device='cuda:0') eval_ppl=tensor(10.3398, device='cuda:0') eval_epoch_loss=tensor(2.3360, device='cuda:0')\n"
     ]
    },
    {
     "name": "stderr",
     "output_type": "stream",
     "text": [
      "100%|██████████| 7/7 [00:00<00:00,  8.57it/s]\n",
      "100%|██████████| 7/7 [00:00<00:00, 17.57it/s]\n"
     ]
    },
    {
     "name": "stdout",
     "output_type": "stream",
     "text": [
      "epoch=40: train_ppl=tensor(10.5144, device='cuda:0') train_epoch_loss=tensor(2.3527, device='cuda:0') eval_ppl=tensor(9.8598, device='cuda:0') eval_epoch_loss=tensor(2.2885, device='cuda:0')\n"
     ]
    },
    {
     "name": "stderr",
     "output_type": "stream",
     "text": [
      "100%|██████████| 7/7 [00:00<00:00,  8.52it/s]\n",
      "100%|██████████| 7/7 [00:00<00:00, 17.54it/s]\n"
     ]
    },
    {
     "name": "stdout",
     "output_type": "stream",
     "text": [
      "epoch=41: train_ppl=tensor(8.7568, device='cuda:0') train_epoch_loss=tensor(2.1698, device='cuda:0') eval_ppl=tensor(9.0803, device='cuda:0') eval_epoch_loss=tensor(2.2061, device='cuda:0')\n"
     ]
    },
    {
     "name": "stderr",
     "output_type": "stream",
     "text": [
      "100%|██████████| 7/7 [00:00<00:00,  8.54it/s]\n",
      "100%|██████████| 7/7 [00:00<00:00, 17.62it/s]\n"
     ]
    },
    {
     "name": "stdout",
     "output_type": "stream",
     "text": [
      "epoch=42: train_ppl=tensor(8.3322, device='cuda:0') train_epoch_loss=tensor(2.1201, device='cuda:0') eval_ppl=tensor(8.0532, device='cuda:0') eval_epoch_loss=tensor(2.0861, device='cuda:0')\n"
     ]
    },
    {
     "name": "stderr",
     "output_type": "stream",
     "text": [
      "100%|██████████| 7/7 [00:00<00:00,  8.59it/s]\n",
      "100%|██████████| 7/7 [00:00<00:00, 17.58it/s]\n"
     ]
    },
    {
     "name": "stdout",
     "output_type": "stream",
     "text": [
      "epoch=43: train_ppl=tensor(7.7755, device='cuda:0') train_epoch_loss=tensor(2.0510, device='cuda:0') eval_ppl=tensor(8.0473, device='cuda:0') eval_epoch_loss=tensor(2.0853, device='cuda:0')\n"
     ]
    },
    {
     "name": "stderr",
     "output_type": "stream",
     "text": [
      "100%|██████████| 7/7 [00:00<00:00,  8.52it/s]\n",
      "100%|██████████| 7/7 [00:00<00:00, 17.63it/s]\n"
     ]
    },
    {
     "name": "stdout",
     "output_type": "stream",
     "text": [
      "epoch=44: train_ppl=tensor(7.4348, device='cuda:0') train_epoch_loss=tensor(2.0062, device='cuda:0') eval_ppl=tensor(7.5879, device='cuda:0') eval_epoch_loss=tensor(2.0266, device='cuda:0')\n"
     ]
    },
    {
     "name": "stderr",
     "output_type": "stream",
     "text": [
      "100%|██████████| 7/7 [00:00<00:00,  8.58it/s]\n",
      "100%|██████████| 7/7 [00:00<00:00, 17.80it/s]\n"
     ]
    },
    {
     "name": "stdout",
     "output_type": "stream",
     "text": [
      "epoch=45: train_ppl=tensor(7.3176, device='cuda:0') train_epoch_loss=tensor(1.9903, device='cuda:0') eval_ppl=tensor(7.0202, device='cuda:0') eval_epoch_loss=tensor(1.9488, device='cuda:0')\n"
     ]
    },
    {
     "name": "stderr",
     "output_type": "stream",
     "text": [
      "100%|██████████| 7/7 [00:00<00:00,  8.51it/s]\n",
      "100%|██████████| 7/7 [00:00<00:00, 17.59it/s]\n"
     ]
    },
    {
     "name": "stdout",
     "output_type": "stream",
     "text": [
      "epoch=46: train_ppl=tensor(6.5938, device='cuda:0') train_epoch_loss=tensor(1.8861, device='cuda:0') eval_ppl=tensor(7.3603, device='cuda:0') eval_epoch_loss=tensor(1.9961, device='cuda:0')\n"
     ]
    },
    {
     "name": "stderr",
     "output_type": "stream",
     "text": [
      "100%|██████████| 7/7 [00:00<00:00,  8.51it/s]\n",
      "100%|██████████| 7/7 [00:00<00:00, 17.62it/s]\n"
     ]
    },
    {
     "name": "stdout",
     "output_type": "stream",
     "text": [
      "epoch=47: train_ppl=tensor(6.8145, device='cuda:0') train_epoch_loss=tensor(1.9190, device='cuda:0') eval_ppl=tensor(6.6551, device='cuda:0') eval_epoch_loss=tensor(1.8954, device='cuda:0')\n"
     ]
    },
    {
     "name": "stderr",
     "output_type": "stream",
     "text": [
      "100%|██████████| 7/7 [00:00<00:00,  8.61it/s]\n",
      "100%|██████████| 7/7 [00:00<00:00, 17.71it/s]\n"
     ]
    },
    {
     "name": "stdout",
     "output_type": "stream",
     "text": [
      "epoch=48: train_ppl=tensor(6.6115, device='cuda:0') train_epoch_loss=tensor(1.8888, device='cuda:0') eval_ppl=tensor(6.5413, device='cuda:0') eval_epoch_loss=tensor(1.8781, device='cuda:0')\n"
     ]
    },
    {
     "name": "stderr",
     "output_type": "stream",
     "text": [
      "100%|██████████| 7/7 [00:00<00:00,  8.51it/s]\n",
      "100%|██████████| 7/7 [00:00<00:00, 17.60it/s]"
     ]
    },
    {
     "name": "stdout",
     "output_type": "stream",
     "text": [
      "epoch=49: train_ppl=tensor(6.2774, device='cuda:0') train_epoch_loss=tensor(1.8370, device='cuda:0') eval_ppl=tensor(6.5237, device='cuda:0') eval_epoch_loss=tensor(1.8754, device='cuda:0')\n"
     ]
    },
    {
     "name": "stderr",
     "output_type": "stream",
     "text": [
      "\n"
     ]
    }
   ],
   "source": [
    "model = model.to(device)\n",
    "\n",
    "for epoch in range(num_epochs):\n",
    "    model.train()\n",
    "    total_loss = 0\n",
    "    for step, batch in enumerate(tqdm(train_dataloader)):\n",
    "        batch = {k: v.to(device) for k, v in batch.items()}\n",
    "        outputs = model(**batch)\n",
    "        loss = outputs.loss\n",
    "        total_loss += loss.detach().float()\n",
    "        loss.backward()\n",
    "        optimizer.step()\n",
    "        lr_scheduler.step()\n",
    "        optimizer.zero_grad()\n",
    "\n",
    "    model.eval()\n",
    "    eval_loss = 0\n",
    "    eval_preds = []\n",
    "    for step, batch in enumerate(tqdm(eval_dataloader)):\n",
    "        batch = {k: v.to(device) for k, v in batch.items()}\n",
    "        with torch.no_grad():\n",
    "            outputs = model(**batch)\n",
    "        loss = outputs.loss\n",
    "        eval_loss += loss.detach().float()\n",
    "        eval_preds.extend(\n",
    "            tokenizer.batch_decode(torch.argmax(outputs.logits, -1).detach().cpu().numpy(), skip_special_tokens=True)\n",
    "        )\n",
    "\n",
    "    eval_epoch_loss = eval_loss / len(eval_dataloader)\n",
    "    eval_ppl = torch.exp(eval_epoch_loss)\n",
    "    train_epoch_loss = total_loss / len(train_dataloader)\n",
    "    train_ppl = torch.exp(train_epoch_loss)\n",
    "    print(f\"{epoch=}: {train_ppl=} {train_epoch_loss=} {eval_ppl=} {eval_epoch_loss=}\")"
   ]
  },
  {
   "cell_type": "code",
   "execution_count": 42,
   "id": "fa5452c6-bf54-4609-b940-61eb3fda76b7",
   "metadata": {},
   "outputs": [
    {
     "data": {
      "application/vnd.jupyter.widget-view+json": {
       "model_id": "6db51447234d4c5cb1f607bd5bbd1949",
       "version_major": 2,
       "version_minor": 0
      },
      "text/plain": [
       "Downloading (…)/adapter_config.json:   0%|          | 0.00/438 [00:00<?, ?B/s]"
      ]
     },
     "metadata": {},
     "output_type": "display_data"
    },
    {
     "data": {
      "application/vnd.jupyter.widget-view+json": {
       "model_id": "c85d6ca6049d4e15a1d7037c03bf9731",
       "version_major": 2,
       "version_minor": 0
      },
      "text/plain": [
       "Downloading adapter_model.bin:   0%|          | 0.00/33.5k [00:00<?, ?B/s]"
      ]
     },
     "metadata": {},
     "output_type": "display_data"
    }
   ],
   "source": [
    "from peft import PeftModel, PeftConfig\n",
    "\n",
    "peft_model_id = \"stevhliu/bloomz-560m_PROMPT_TUNING_CAUSAL_LM\"\n",
    "\n",
    "config = PeftConfig.from_pretrained(peft_model_id)\n",
    "model = AutoModelForCausalLM.from_pretrained(config.base_model_name_or_path)\n",
    "model = PeftModel.from_pretrained(model, peft_model_id)"
   ]
  },
  {
   "cell_type": "code",
   "execution_count": 44,
   "id": "09f3ce4c-ecd4-4fa5-9e17-6a8597a57d19",
   "metadata": {},
   "outputs": [],
   "source": [
    "inputs = tokenizer(\n",
    "    f'{text_column} : {\"@nationalgridus I have no water and the bill is current and paid. Can you do something about this?\"} Label : ',\n",
    "    return_tensors=\"pt\",\n",
    ")"
   ]
  },
  {
   "cell_type": "code",
   "execution_count": 45,
   "id": "d920adf9-0f3b-4480-bacf-985d888a397d",
   "metadata": {},
   "outputs": [
    {
     "name": "stdout",
     "output_type": "stream",
     "text": [
      "['Tweet text : @nationalgridus I have no water and the bill is current and paid. Can you do something about this? Label : complaint']\n"
     ]
    },
    {
     "data": {
      "text/plain": [
       "['Tweet text : @nationalgridus I have no water and the bill is current and paid. Can you do something about this? Label : complaint']"
      ]
     },
     "execution_count": 45,
     "metadata": {},
     "output_type": "execute_result"
    }
   ],
   "source": [
    "model.to(device)\n",
    "\n",
    "with torch.no_grad():\n",
    "    inputs = {k: v.to(device) for k, v in inputs.items()}\n",
    "    outputs = model.generate(\n",
    "        input_ids=inputs[\"input_ids\"], attention_mask=inputs[\"attention_mask\"], max_new_tokens=10, eos_token_id=3\n",
    "    )\n",
    "    print(tokenizer.batch_decode(outputs.detach().cpu().numpy(), skip_special_tokens=True))"
   ]
  },
  {
   "cell_type": "code",
   "execution_count": null,
   "id": "3b0b55e9-9f2d-43c0-85e6-d005a41a719c",
   "metadata": {},
   "outputs": [],
   "source": []
  },
  {
   "cell_type": "code",
   "execution_count": null,
   "id": "9b695346-4a49-44b3-8a03-4b6c52caed8a",
   "metadata": {},
   "outputs": [],
   "source": []
  }
 ],
 "metadata": {
  "kernelspec": {
   "display_name": "Python 3",
   "language": "python",
   "name": "python3"
  },
  "language_info": {
   "codemirror_mode": {
    "name": "ipython",
    "version": 3
   },
   "file_extension": ".py",
   "mimetype": "text/x-python",
   "name": "python",
   "nbconvert_exporter": "python",
   "pygments_lexer": "ipython3",
   "version": "3.8.8"
  }
 },
 "nbformat": 4,
 "nbformat_minor": 5
}
